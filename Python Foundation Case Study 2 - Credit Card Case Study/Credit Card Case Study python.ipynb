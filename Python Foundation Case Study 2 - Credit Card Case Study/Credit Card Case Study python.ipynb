{
 "cells": [
  {
   "cell_type": "code",
   "execution_count": 1,
   "id": "35bf1470",
   "metadata": {},
   "outputs": [],
   "source": [
    "import pandas as pd\n",
    "import numpy as np\n",
    "import matplotlib.pyplot as plt\n",
    "import os\n",
    "import datetime \n",
    "from datetime import datetime as dt\n",
    "os.chdir(r\"C:\\Users\\itsfe\\Downloads\\Python Foundation Case Study 2 - Credit Card Case Study\")\n",
    "Cust_acq=pd.read_csv('Customer Acqusition.csv')\n",
    "Spend=pd.read_csv('Spend.csv')\n",
    "Repay=pd.read_csv('Repayment.csv')\n",
    "Credit_data=pd.read_excel('Credit Card Data.xlsx')"
   ]
  },
  {
   "cell_type": "markdown",
   "id": "70904dfe",
   "metadata": {},
   "source": [
    "## 1. In the above dataset,\n",
    "## a. In case age is less than 18, replace it with mean of age values."
   ]
  },
  {
   "cell_type": "code",
   "execution_count": 2,
   "id": "da9e09a1",
   "metadata": {},
   "outputs": [
    {
     "data": {
      "text/html": [
       "<div>\n",
       "<style scoped>\n",
       "    .dataframe tbody tr th:only-of-type {\n",
       "        vertical-align: middle;\n",
       "    }\n",
       "\n",
       "    .dataframe tbody tr th {\n",
       "        vertical-align: top;\n",
       "    }\n",
       "\n",
       "    .dataframe thead th {\n",
       "        text-align: right;\n",
       "    }\n",
       "</style>\n",
       "<table border=\"1\" class=\"dataframe\">\n",
       "  <thead>\n",
       "    <tr style=\"text-align: right;\">\n",
       "      <th></th>\n",
       "      <th>No</th>\n",
       "      <th>Customer</th>\n",
       "      <th>Age</th>\n",
       "      <th>City</th>\n",
       "      <th>Product</th>\n",
       "      <th>Limit</th>\n",
       "      <th>Company</th>\n",
       "      <th>Segment</th>\n",
       "    </tr>\n",
       "  </thead>\n",
       "  <tbody>\n",
       "    <tr>\n",
       "      <th>0</th>\n",
       "      <td>1</td>\n",
       "      <td>A1</td>\n",
       "      <td>76.0</td>\n",
       "      <td>BANGALORE</td>\n",
       "      <td>Gold</td>\n",
       "      <td>500000.0</td>\n",
       "      <td>C1</td>\n",
       "      <td>Self Employed</td>\n",
       "    </tr>\n",
       "    <tr>\n",
       "      <th>1</th>\n",
       "      <td>2</td>\n",
       "      <td>A2</td>\n",
       "      <td>71.0</td>\n",
       "      <td>CALCUTTA</td>\n",
       "      <td>Silver</td>\n",
       "      <td>100000.0</td>\n",
       "      <td>C2</td>\n",
       "      <td>Salaried_MNC</td>\n",
       "    </tr>\n",
       "    <tr>\n",
       "      <th>2</th>\n",
       "      <td>3</td>\n",
       "      <td>A3</td>\n",
       "      <td>34.0</td>\n",
       "      <td>COCHIN</td>\n",
       "      <td>Platimum</td>\n",
       "      <td>10000.0</td>\n",
       "      <td>C3</td>\n",
       "      <td>Salaried_Pvt</td>\n",
       "    </tr>\n",
       "    <tr>\n",
       "      <th>3</th>\n",
       "      <td>4</td>\n",
       "      <td>A4</td>\n",
       "      <td>47.0</td>\n",
       "      <td>BOMBAY</td>\n",
       "      <td>Platimum</td>\n",
       "      <td>10001.0</td>\n",
       "      <td>C4</td>\n",
       "      <td>Govt</td>\n",
       "    </tr>\n",
       "    <tr>\n",
       "      <th>4</th>\n",
       "      <td>5</td>\n",
       "      <td>A5</td>\n",
       "      <td>56.0</td>\n",
       "      <td>BANGALORE</td>\n",
       "      <td>Platimum</td>\n",
       "      <td>10002.0</td>\n",
       "      <td>C5</td>\n",
       "      <td>Normal Salary</td>\n",
       "    </tr>\n",
       "    <tr>\n",
       "      <th>...</th>\n",
       "      <td>...</td>\n",
       "      <td>...</td>\n",
       "      <td>...</td>\n",
       "      <td>...</td>\n",
       "      <td>...</td>\n",
       "      <td>...</td>\n",
       "      <td>...</td>\n",
       "      <td>...</td>\n",
       "    </tr>\n",
       "    <tr>\n",
       "      <th>95</th>\n",
       "      <td>96</td>\n",
       "      <td>A96</td>\n",
       "      <td>54.0</td>\n",
       "      <td>CHENNAI</td>\n",
       "      <td>Silver</td>\n",
       "      <td>100000.0</td>\n",
       "      <td>C19</td>\n",
       "      <td>Salaried_Pvt</td>\n",
       "    </tr>\n",
       "    <tr>\n",
       "      <th>96</th>\n",
       "      <td>97</td>\n",
       "      <td>A97</td>\n",
       "      <td>58.0</td>\n",
       "      <td>TRIVANDRUM</td>\n",
       "      <td>Platimum</td>\n",
       "      <td>10000.0</td>\n",
       "      <td>C20</td>\n",
       "      <td>Govt</td>\n",
       "    </tr>\n",
       "    <tr>\n",
       "      <th>97</th>\n",
       "      <td>98</td>\n",
       "      <td>A98</td>\n",
       "      <td>51.0</td>\n",
       "      <td>CALCUTTA</td>\n",
       "      <td>Platimum</td>\n",
       "      <td>10001.0</td>\n",
       "      <td>C21</td>\n",
       "      <td>Normal Salary</td>\n",
       "    </tr>\n",
       "    <tr>\n",
       "      <th>98</th>\n",
       "      <td>99</td>\n",
       "      <td>A99</td>\n",
       "      <td>35.0</td>\n",
       "      <td>CALCUTTA</td>\n",
       "      <td>Platimum</td>\n",
       "      <td>10002.0</td>\n",
       "      <td>C22</td>\n",
       "      <td>Self Employed</td>\n",
       "    </tr>\n",
       "    <tr>\n",
       "      <th>99</th>\n",
       "      <td>100</td>\n",
       "      <td>A100</td>\n",
       "      <td>36.0</td>\n",
       "      <td>COCHIN</td>\n",
       "      <td>Silver</td>\n",
       "      <td>100000.0</td>\n",
       "      <td>C5</td>\n",
       "      <td>Salaried_MNC</td>\n",
       "    </tr>\n",
       "  </tbody>\n",
       "</table>\n",
       "<p>100 rows × 8 columns</p>\n",
       "</div>"
      ],
      "text/plain": [
       "     No Customer   Age        City   Product     Limit Company        Segment\n",
       "0     1       A1  76.0   BANGALORE      Gold  500000.0      C1  Self Employed\n",
       "1     2       A2  71.0    CALCUTTA    Silver  100000.0      C2   Salaried_MNC\n",
       "2     3       A3  34.0      COCHIN  Platimum   10000.0      C3   Salaried_Pvt\n",
       "3     4       A4  47.0      BOMBAY  Platimum   10001.0      C4           Govt\n",
       "4     5       A5  56.0   BANGALORE  Platimum   10002.0      C5  Normal Salary\n",
       "..  ...      ...   ...         ...       ...       ...     ...            ...\n",
       "95   96      A96  54.0     CHENNAI    Silver  100000.0     C19   Salaried_Pvt\n",
       "96   97      A97  58.0  TRIVANDRUM  Platimum   10000.0     C20           Govt\n",
       "97   98      A98  51.0    CALCUTTA  Platimum   10001.0     C21  Normal Salary\n",
       "98   99      A99  35.0    CALCUTTA  Platimum   10002.0     C22  Self Employed\n",
       "99  100     A100  36.0      COCHIN    Silver  100000.0      C5   Salaried_MNC\n",
       "\n",
       "[100 rows x 8 columns]"
      ]
     },
     "execution_count": 2,
     "metadata": {},
     "output_type": "execute_result"
    }
   ],
   "source": [
    "Cust_acq.Age=np.where(Cust_acq.Age<18,Cust_acq.Age.mean(),Cust_acq.Age)\n",
    "Cust_acq"
   ]
  },
  {
   "cell_type": "markdown",
   "id": "2f6a3161",
   "metadata": {},
   "source": [
    "## b. In case spend amount is more than the limit, replace it with 50% of that customer’s limit.\n",
    "## (customer’s limit provided in acquisition table is the per transaction limit on his card)"
   ]
  },
  {
   "cell_type": "code",
   "execution_count": 3,
   "id": "1dc4e960",
   "metadata": {},
   "outputs": [],
   "source": [
    "join=pd.merge(how='inner',left=Spend,right=Cust_acq,left_on='Customer',right_on='Customer')\n",
    "join.Amount=np.where(join.Amount>join.Limit,.5*join.Limit,join.Amount)\n"
   ]
  },
  {
   "cell_type": "markdown",
   "id": "74b40fdd",
   "metadata": {},
   "source": [
    "## c. Incase the repayment amount is more than the limit, replace the repayment with the limit.\n"
   ]
  },
  {
   "cell_type": "code",
   "execution_count": 4,
   "id": "d100fa27",
   "metadata": {},
   "outputs": [],
   "source": [
    "join1=pd.merge(how='inner',left=Repay,right=Cust_acq,left_on='Customer',right_on='Customer')\n",
    "join1.Amount=np.where(join1.Amount>join1.Limit,join1.Limit,join1.Amount)\n"
   ]
  },
  {
   "cell_type": "markdown",
   "id": "141dc2c7",
   "metadata": {},
   "source": [
    "## 2. From the above dataset create the following summaries:\n",
    "## a. How many distinct customers exist?"
   ]
  },
  {
   "cell_type": "code",
   "execution_count": 5,
   "id": "d49ea205",
   "metadata": {},
   "outputs": [
    {
     "data": {
      "text/plain": [
       "100"
      ]
     },
     "execution_count": 5,
     "metadata": {},
     "output_type": "execute_result"
    }
   ],
   "source": [
    "(~Cust_acq.Customer.duplicated()).sum()"
   ]
  },
  {
   "cell_type": "markdown",
   "id": "9174b8ad",
   "metadata": {},
   "source": [
    "# b. How many distinct categories exist?"
   ]
  },
  {
   "cell_type": "code",
   "execution_count": 6,
   "id": "1db942cb",
   "metadata": {},
   "outputs": [
    {
     "data": {
      "text/plain": [
       "5"
      ]
     },
     "execution_count": 6,
     "metadata": {},
     "output_type": "execute_result"
    }
   ],
   "source": [
    "(~Cust_acq.Segment.duplicated()).sum()"
   ]
  },
  {
   "cell_type": "markdown",
   "id": "99ca4135",
   "metadata": {},
   "source": [
    "## c. What is the average monthly spend by customers?"
   ]
  },
  {
   "cell_type": "code",
   "execution_count": 7,
   "id": "0fec8cef",
   "metadata": {},
   "outputs": [
    {
     "data": {
      "text/html": [
       "<div>\n",
       "<style scoped>\n",
       "    .dataframe tbody tr th:only-of-type {\n",
       "        vertical-align: middle;\n",
       "    }\n",
       "\n",
       "    .dataframe tbody tr th {\n",
       "        vertical-align: top;\n",
       "    }\n",
       "\n",
       "    .dataframe thead th {\n",
       "        text-align: right;\n",
       "    }\n",
       "</style>\n",
       "<table border=\"1\" class=\"dataframe\">\n",
       "  <thead>\n",
       "    <tr style=\"text-align: right;\">\n",
       "      <th></th>\n",
       "      <th></th>\n",
       "      <th>Amount</th>\n",
       "    </tr>\n",
       "    <tr>\n",
       "      <th>Customer</th>\n",
       "      <th>Month1</th>\n",
       "      <th></th>\n",
       "    </tr>\n",
       "  </thead>\n",
       "  <tbody>\n",
       "    <tr>\n",
       "      <th rowspan=\"5\" valign=\"top\">A1</th>\n",
       "      <th>1</th>\n",
       "      <td>372762.587143</td>\n",
       "    </tr>\n",
       "    <tr>\n",
       "      <th>2</th>\n",
       "      <td>175235.690000</td>\n",
       "    </tr>\n",
       "    <tr>\n",
       "      <th>4</th>\n",
       "      <td>261649.250000</td>\n",
       "    </tr>\n",
       "    <tr>\n",
       "      <th>5</th>\n",
       "      <td>361141.310000</td>\n",
       "    </tr>\n",
       "    <tr>\n",
       "      <th>8</th>\n",
       "      <td>344372.100000</td>\n",
       "    </tr>\n",
       "    <tr>\n",
       "      <th>...</th>\n",
       "      <th>...</th>\n",
       "      <td>...</td>\n",
       "    </tr>\n",
       "    <tr>\n",
       "      <th>A95</th>\n",
       "      <th>1</th>\n",
       "      <td>240401.500000</td>\n",
       "    </tr>\n",
       "    <tr>\n",
       "      <th>A96</th>\n",
       "      <th>1</th>\n",
       "      <td>54729.660000</td>\n",
       "    </tr>\n",
       "    <tr>\n",
       "      <th>A97</th>\n",
       "      <th>1</th>\n",
       "      <td>139018.260000</td>\n",
       "    </tr>\n",
       "    <tr>\n",
       "      <th>A98</th>\n",
       "      <th>1</th>\n",
       "      <td>284521.060000</td>\n",
       "    </tr>\n",
       "    <tr>\n",
       "      <th>A99</th>\n",
       "      <th>1</th>\n",
       "      <td>90184.220000</td>\n",
       "    </tr>\n",
       "  </tbody>\n",
       "</table>\n",
       "<p>578 rows × 1 columns</p>\n",
       "</div>"
      ],
      "text/plain": [
       "                        Amount\n",
       "Customer Month1               \n",
       "A1       1       372762.587143\n",
       "         2       175235.690000\n",
       "         4       261649.250000\n",
       "         5       361141.310000\n",
       "         8       344372.100000\n",
       "...                        ...\n",
       "A95      1       240401.500000\n",
       "A96      1        54729.660000\n",
       "A97      1       139018.260000\n",
       "A98      1       284521.060000\n",
       "A99      1        90184.220000\n",
       "\n",
       "[578 rows x 1 columns]"
      ]
     },
     "execution_count": 7,
     "metadata": {},
     "output_type": "execute_result"
    }
   ],
   "source": [
    "Spend.Month=Spend.Month.astype('datetime64')\n",
    "Spend['Month1']=Spend['Month'].dt.month\n",
    "pd.pivot_table(data=Spend,values='Amount',index=['Customer','Month1'],aggfunc='mean')\n"
   ]
  },
  {
   "cell_type": "markdown",
   "id": "cb5983a5",
   "metadata": {},
   "source": [
    "# d. What is the average monthly repayment by customers?"
   ]
  },
  {
   "cell_type": "code",
   "execution_count": 8,
   "id": "e5ce53ec",
   "metadata": {},
   "outputs": [
    {
     "data": {
      "text/html": [
       "<div>\n",
       "<style scoped>\n",
       "    .dataframe tbody tr th:only-of-type {\n",
       "        vertical-align: middle;\n",
       "    }\n",
       "\n",
       "    .dataframe tbody tr th {\n",
       "        vertical-align: top;\n",
       "    }\n",
       "\n",
       "    .dataframe thead th {\n",
       "        text-align: right;\n",
       "    }\n",
       "</style>\n",
       "<table border=\"1\" class=\"dataframe\">\n",
       "  <thead>\n",
       "    <tr style=\"text-align: right;\">\n",
       "      <th></th>\n",
       "      <th></th>\n",
       "      <th>Amount</th>\n",
       "    </tr>\n",
       "    <tr>\n",
       "      <th>Customer</th>\n",
       "      <th>Month2</th>\n",
       "      <th></th>\n",
       "    </tr>\n",
       "  </thead>\n",
       "  <tbody>\n",
       "    <tr>\n",
       "      <th rowspan=\"5\" valign=\"top\">A1</th>\n",
       "      <th>1.0</th>\n",
       "      <td>343972.327143</td>\n",
       "    </tr>\n",
       "    <tr>\n",
       "      <th>2.0</th>\n",
       "      <td>156374.760000</td>\n",
       "    </tr>\n",
       "    <tr>\n",
       "      <th>4.0</th>\n",
       "      <td>254474.580000</td>\n",
       "    </tr>\n",
       "    <tr>\n",
       "      <th>7.0</th>\n",
       "      <td>297176.740000</td>\n",
       "    </tr>\n",
       "    <tr>\n",
       "      <th>9.0</th>\n",
       "      <td>186427.500000</td>\n",
       "    </tr>\n",
       "    <tr>\n",
       "      <th>...</th>\n",
       "      <th>...</th>\n",
       "      <td>...</td>\n",
       "    </tr>\n",
       "    <tr>\n",
       "      <th>A95</th>\n",
       "      <th>1.0</th>\n",
       "      <td>369405.960000</td>\n",
       "    </tr>\n",
       "    <tr>\n",
       "      <th>A96</th>\n",
       "      <th>1.0</th>\n",
       "      <td>310992.300000</td>\n",
       "    </tr>\n",
       "    <tr>\n",
       "      <th>A97</th>\n",
       "      <th>1.0</th>\n",
       "      <td>121874.900000</td>\n",
       "    </tr>\n",
       "    <tr>\n",
       "      <th>A98</th>\n",
       "      <th>1.0</th>\n",
       "      <td>337815.570000</td>\n",
       "    </tr>\n",
       "    <tr>\n",
       "      <th>A99</th>\n",
       "      <th>1.0</th>\n",
       "      <td>25682.730000</td>\n",
       "    </tr>\n",
       "  </tbody>\n",
       "</table>\n",
       "<p>558 rows × 1 columns</p>\n",
       "</div>"
      ],
      "text/plain": [
       "                        Amount\n",
       "Customer Month2               \n",
       "A1       1.0     343972.327143\n",
       "         2.0     156374.760000\n",
       "         4.0     254474.580000\n",
       "         7.0     297176.740000\n",
       "         9.0     186427.500000\n",
       "...                        ...\n",
       "A95      1.0     369405.960000\n",
       "A96      1.0     310992.300000\n",
       "A97      1.0     121874.900000\n",
       "A98      1.0     337815.570000\n",
       "A99      1.0      25682.730000\n",
       "\n",
       "[558 rows x 1 columns]"
      ]
     },
     "execution_count": 8,
     "metadata": {},
     "output_type": "execute_result"
    }
   ],
   "source": [
    "Repay.Month=Repay.Month.astype('datetime64')\n",
    "Repay['Month2']=Repay.Month.dt.month\n",
    "pd.pivot_table(data=Repay,values='Amount',index=['Customer','Month2'],aggfunc='mean')\n"
   ]
  },
  {
   "cell_type": "markdown",
   "id": "009de025",
   "metadata": {},
   "source": [
    "## e. If the monthly rate of interest is 2.9%, what is the profit for the bank for each month?\n",
    "## (Profit is defined as interest earned on Monthly Profit. Monthly Profit = Monthly repayment\n",
    "## – Monthly spend. Interest is earned only on positive profits and not on negative amounts)"
   ]
  },
  {
   "cell_type": "code",
   "execution_count": 9,
   "id": "ae145240",
   "metadata": {},
   "outputs": [
    {
     "name": "stderr",
     "output_type": "stream",
     "text": [
      "C:\\Users\\itsfe\\AppData\\Local\\Temp\\ipykernel_21564\\2865971608.py:5: SettingWithCopyWarning: \n",
      "A value is trying to be set on a copy of a slice from a DataFrame.\n",
      "Try using .loc[row_indexer,col_indexer] = value instead\n",
      "\n",
      "See the caveats in the documentation: https://pandas.pydata.org/pandas-docs/stable/user_guide/indexing.html#returning-a-view-versus-a-copy\n",
      "  tab_prof['Interest']=tab_prof.Profit*0.029\n"
     ]
    },
    {
     "data": {
      "text/html": [
       "<div>\n",
       "<style scoped>\n",
       "    .dataframe tbody tr th:only-of-type {\n",
       "        vertical-align: middle;\n",
       "    }\n",
       "\n",
       "    .dataframe tbody tr th {\n",
       "        vertical-align: top;\n",
       "    }\n",
       "\n",
       "    .dataframe thead th {\n",
       "        text-align: right;\n",
       "    }\n",
       "</style>\n",
       "<table border=\"1\" class=\"dataframe\">\n",
       "  <thead>\n",
       "    <tr style=\"text-align: right;\">\n",
       "      <th></th>\n",
       "      <th>Amount_x</th>\n",
       "      <th>Amount_y</th>\n",
       "      <th>Profit</th>\n",
       "      <th>Interest</th>\n",
       "    </tr>\n",
       "    <tr>\n",
       "      <th>Month1</th>\n",
       "      <th></th>\n",
       "      <th></th>\n",
       "      <th></th>\n",
       "      <th></th>\n",
       "    </tr>\n",
       "  </thead>\n",
       "  <tbody>\n",
       "    <tr>\n",
       "      <th>2</th>\n",
       "      <td>1.363412e+09</td>\n",
       "      <td>1.451522e+09</td>\n",
       "      <td>88110652.85</td>\n",
       "      <td>2.555209e+06</td>\n",
       "    </tr>\n",
       "    <tr>\n",
       "      <th>3</th>\n",
       "      <td>1.363808e+09</td>\n",
       "      <td>1.373256e+09</td>\n",
       "      <td>9448897.00</td>\n",
       "      <td>2.740180e+05</td>\n",
       "    </tr>\n",
       "    <tr>\n",
       "      <th>4</th>\n",
       "      <td>9.090117e+08</td>\n",
       "      <td>9.488581e+08</td>\n",
       "      <td>39846449.70</td>\n",
       "      <td>1.155547e+06</td>\n",
       "    </tr>\n",
       "    <tr>\n",
       "      <th>5</th>\n",
       "      <td>1.272817e+09</td>\n",
       "      <td>1.310234e+09</td>\n",
       "      <td>37416584.84</td>\n",
       "      <td>1.085081e+06</td>\n",
       "    </tr>\n",
       "    <tr>\n",
       "      <th>6</th>\n",
       "      <td>3.880553e+08</td>\n",
       "      <td>4.063657e+08</td>\n",
       "      <td>18310380.32</td>\n",
       "      <td>5.310010e+05</td>\n",
       "    </tr>\n",
       "    <tr>\n",
       "      <th>8</th>\n",
       "      <td>2.632131e+08</td>\n",
       "      <td>2.749142e+08</td>\n",
       "      <td>11701099.63</td>\n",
       "      <td>3.393319e+05</td>\n",
       "    </tr>\n",
       "    <tr>\n",
       "      <th>9</th>\n",
       "      <td>2.430704e+08</td>\n",
       "      <td>2.715815e+08</td>\n",
       "      <td>28511150.25</td>\n",
       "      <td>8.268234e+05</td>\n",
       "    </tr>\n",
       "    <tr>\n",
       "      <th>10</th>\n",
       "      <td>1.537719e+08</td>\n",
       "      <td>1.813678e+08</td>\n",
       "      <td>27595887.64</td>\n",
       "      <td>8.002807e+05</td>\n",
       "    </tr>\n",
       "    <tr>\n",
       "      <th>12</th>\n",
       "      <td>1.307270e+08</td>\n",
       "      <td>1.652582e+08</td>\n",
       "      <td>34531130.99</td>\n",
       "      <td>1.001403e+06</td>\n",
       "    </tr>\n",
       "  </tbody>\n",
       "</table>\n",
       "</div>"
      ],
      "text/plain": [
       "            Amount_x      Amount_y       Profit      Interest\n",
       "Month1                                                       \n",
       "2       1.363412e+09  1.451522e+09  88110652.85  2.555209e+06\n",
       "3       1.363808e+09  1.373256e+09   9448897.00  2.740180e+05\n",
       "4       9.090117e+08  9.488581e+08  39846449.70  1.155547e+06\n",
       "5       1.272817e+09  1.310234e+09  37416584.84  1.085081e+06\n",
       "6       3.880553e+08  4.063657e+08  18310380.32  5.310010e+05\n",
       "8       2.632131e+08  2.749142e+08  11701099.63  3.393319e+05\n",
       "9       2.430704e+08  2.715815e+08  28511150.25  8.268234e+05\n",
       "10      1.537719e+08  1.813678e+08  27595887.64  8.002807e+05\n",
       "12      1.307270e+08  1.652582e+08  34531130.99  1.001403e+06"
      ]
     },
     "execution_count": 9,
     "metadata": {},
     "output_type": "execute_result"
    }
   ],
   "source": [
    "sp_re=pd.merge(how='inner',left=Spend,right=Repay,left_on='Customer',right_on='Customer')\n",
    "table=pd.pivot_table(data=sp_re,values=['Amount_x','Amount_y'],index=['Month1'],aggfunc='sum')\n",
    "table['Profit']=table.Amount_y-table.Amount_x\n",
    "tab_prof=table[table.Profit>0]\n",
    "tab_prof['Interest']=tab_prof.Profit*0.029\n",
    "tab_prof"
   ]
  },
  {
   "cell_type": "markdown",
   "id": "46eba618",
   "metadata": {},
   "source": [
    "## f. What are the top 5 product types?"
   ]
  },
  {
   "cell_type": "code",
   "execution_count": 10,
   "id": "fb233749",
   "metadata": {},
   "outputs": [
    {
     "data": {
      "text/html": [
       "<div>\n",
       "<style scoped>\n",
       "    .dataframe tbody tr th:only-of-type {\n",
       "        vertical-align: middle;\n",
       "    }\n",
       "\n",
       "    .dataframe tbody tr th {\n",
       "        vertical-align: top;\n",
       "    }\n",
       "\n",
       "    .dataframe thead th {\n",
       "        text-align: right;\n",
       "    }\n",
       "</style>\n",
       "<table border=\"1\" class=\"dataframe\">\n",
       "  <thead>\n",
       "    <tr style=\"text-align: right;\">\n",
       "      <th></th>\n",
       "      <th>Amount</th>\n",
       "    </tr>\n",
       "    <tr>\n",
       "      <th>Type</th>\n",
       "      <th></th>\n",
       "    </tr>\n",
       "  </thead>\n",
       "  <tbody>\n",
       "    <tr>\n",
       "      <th>PETRO</th>\n",
       "      <td>49863174.09</td>\n",
       "    </tr>\n",
       "    <tr>\n",
       "      <th>CAMERA</th>\n",
       "      <td>41481571.96</td>\n",
       "    </tr>\n",
       "    <tr>\n",
       "      <th>FOOD</th>\n",
       "      <td>37773338.43</td>\n",
       "    </tr>\n",
       "    <tr>\n",
       "      <th>TRAIN TICKET</th>\n",
       "      <td>33067077.15</td>\n",
       "    </tr>\n",
       "    <tr>\n",
       "      <th>AIR TICKET</th>\n",
       "      <td>32955445.42</td>\n",
       "    </tr>\n",
       "  </tbody>\n",
       "</table>\n",
       "</div>"
      ],
      "text/plain": [
       "                   Amount\n",
       "Type                     \n",
       "PETRO         49863174.09\n",
       "CAMERA        41481571.96\n",
       "FOOD          37773338.43\n",
       "TRAIN TICKET  33067077.15\n",
       "AIR TICKET    32955445.42"
      ]
     },
     "execution_count": 10,
     "metadata": {},
     "output_type": "execute_result"
    }
   ],
   "source": [
    "p_types=pd.pivot_table(data=Spend,values='Amount',index='Type',aggfunc='sum')\n",
    "p_types=p_types.sort_values(by='Amount',ascending=False)\n",
    "p_types.head(5)"
   ]
  },
  {
   "cell_type": "markdown",
   "id": "842e9230",
   "metadata": {},
   "source": [
    "## g. Which city is having maximum spend?"
   ]
  },
  {
   "cell_type": "code",
   "execution_count": 11,
   "id": "dbc75b66",
   "metadata": {},
   "outputs": [
    {
     "data": {
      "text/html": [
       "<div>\n",
       "<style scoped>\n",
       "    .dataframe tbody tr th:only-of-type {\n",
       "        vertical-align: middle;\n",
       "    }\n",
       "\n",
       "    .dataframe tbody tr th {\n",
       "        vertical-align: top;\n",
       "    }\n",
       "\n",
       "    .dataframe thead th {\n",
       "        text-align: right;\n",
       "    }\n",
       "</style>\n",
       "<table border=\"1\" class=\"dataframe\">\n",
       "  <thead>\n",
       "    <tr style=\"text-align: right;\">\n",
       "      <th></th>\n",
       "      <th>Amount</th>\n",
       "    </tr>\n",
       "    <tr>\n",
       "      <th>City</th>\n",
       "      <th></th>\n",
       "    </tr>\n",
       "  </thead>\n",
       "  <tbody>\n",
       "    <tr>\n",
       "      <th>COCHIN</th>\n",
       "      <td>73495349.26</td>\n",
       "    </tr>\n",
       "  </tbody>\n",
       "</table>\n",
       "</div>"
      ],
      "text/plain": [
       "             Amount\n",
       "City               \n",
       "COCHIN  73495349.26"
      ]
     },
     "execution_count": 11,
     "metadata": {},
     "output_type": "execute_result"
    }
   ],
   "source": [
    "tab=pd.merge(how='inner',left=Cust_acq,right=Spend,left_on='Customer',right_on='Customer')\n",
    "spendtab=pd.pivot_table(data=tab,values='Amount',index='City',aggfunc='sum')\n",
    "spendtab=spendtab.sort_values(by='Amount',ascending=False)\n",
    "spendtab.head(1)"
   ]
  },
  {
   "cell_type": "markdown",
   "id": "482e4259",
   "metadata": {},
   "source": [
    "## h. Which age group is spending more money?"
   ]
  },
  {
   "cell_type": "code",
   "execution_count": 12,
   "id": "cf8a54ab",
   "metadata": {},
   "outputs": [
    {
     "data": {
      "text/html": [
       "<div>\n",
       "<style scoped>\n",
       "    .dataframe tbody tr th:only-of-type {\n",
       "        vertical-align: middle;\n",
       "    }\n",
       "\n",
       "    .dataframe tbody tr th {\n",
       "        vertical-align: top;\n",
       "    }\n",
       "\n",
       "    .dataframe thead th {\n",
       "        text-align: right;\n",
       "    }\n",
       "</style>\n",
       "<table border=\"1\" class=\"dataframe\">\n",
       "  <thead>\n",
       "    <tr style=\"text-align: right;\">\n",
       "      <th></th>\n",
       "      <th>Amount</th>\n",
       "    </tr>\n",
       "    <tr>\n",
       "      <th>Age group</th>\n",
       "      <th></th>\n",
       "    </tr>\n",
       "  </thead>\n",
       "  <tbody>\n",
       "    <tr>\n",
       "      <th>Adult</th>\n",
       "      <td>1.976996e+08</td>\n",
       "    </tr>\n",
       "  </tbody>\n",
       "</table>\n",
       "</div>"
      ],
      "text/plain": [
       "                 Amount\n",
       "Age group              \n",
       "Adult      1.976996e+08"
      ]
     },
     "execution_count": 12,
     "metadata": {},
     "output_type": "execute_result"
    }
   ],
   "source": [
    "spend_cust=pd.merge(how='inner',left=Cust_acq,right=Spend,left_on='Customer',right_on='Customer')\n",
    "spend_cust['Age group']=np.where((spend_cust.Age>=60),'Senior',np.where((spend_cust.Age>=31) ,'Adult','Youth'))\n",
    "spend_cust.groupby(by='Age group')[['Amount']].sum().sort_values(by='Amount',ascending=False).head(1)"
   ]
  },
  {
   "cell_type": "markdown",
   "id": "eac247d4",
   "metadata": {},
   "source": [
    "## i. Who are the top 10 customers in terms of repayment?"
   ]
  },
  {
   "cell_type": "code",
   "execution_count": 13,
   "id": "92244de9",
   "metadata": {},
   "outputs": [
    {
     "data": {
      "text/html": [
       "<div>\n",
       "<style scoped>\n",
       "    .dataframe tbody tr th:only-of-type {\n",
       "        vertical-align: middle;\n",
       "    }\n",
       "\n",
       "    .dataframe tbody tr th {\n",
       "        vertical-align: top;\n",
       "    }\n",
       "\n",
       "    .dataframe thead th {\n",
       "        text-align: right;\n",
       "    }\n",
       "</style>\n",
       "<table border=\"1\" class=\"dataframe\">\n",
       "  <thead>\n",
       "    <tr style=\"text-align: right;\">\n",
       "      <th></th>\n",
       "      <th>Amount</th>\n",
       "    </tr>\n",
       "    <tr>\n",
       "      <th>Customer</th>\n",
       "      <th></th>\n",
       "    </tr>\n",
       "  </thead>\n",
       "  <tbody>\n",
       "    <tr>\n",
       "      <th>A61</th>\n",
       "      <td>10539142.91</td>\n",
       "    </tr>\n",
       "    <tr>\n",
       "      <th>A60</th>\n",
       "      <td>9876290.74</td>\n",
       "    </tr>\n",
       "    <tr>\n",
       "      <th>A13</th>\n",
       "      <td>9572000.66</td>\n",
       "    </tr>\n",
       "    <tr>\n",
       "      <th>A22</th>\n",
       "      <td>9372561.68</td>\n",
       "    </tr>\n",
       "    <tr>\n",
       "      <th>A21</th>\n",
       "      <td>9056336.15</td>\n",
       "    </tr>\n",
       "    <tr>\n",
       "      <th>A43</th>\n",
       "      <td>8489871.46</td>\n",
       "    </tr>\n",
       "    <tr>\n",
       "      <th>A45</th>\n",
       "      <td>8448334.87</td>\n",
       "    </tr>\n",
       "    <tr>\n",
       "      <th>A12</th>\n",
       "      <td>8334760.16</td>\n",
       "    </tr>\n",
       "    <tr>\n",
       "      <th>A48</th>\n",
       "      <td>8292416.75</td>\n",
       "    </tr>\n",
       "    <tr>\n",
       "      <th>A14</th>\n",
       "      <td>7943268.63</td>\n",
       "    </tr>\n",
       "  </tbody>\n",
       "</table>\n",
       "</div>"
      ],
      "text/plain": [
       "               Amount\n",
       "Customer             \n",
       "A61       10539142.91\n",
       "A60        9876290.74\n",
       "A13        9572000.66\n",
       "A22        9372561.68\n",
       "A21        9056336.15\n",
       "A43        8489871.46\n",
       "A45        8448334.87\n",
       "A12        8334760.16\n",
       "A48        8292416.75\n",
       "A14        7943268.63"
      ]
     },
     "execution_count": 13,
     "metadata": {},
     "output_type": "execute_result"
    }
   ],
   "source": [
    "Repay.groupby(by='Customer')[['Amount']].sum().sort_values(by='Amount',ascending=False).head(10)"
   ]
  },
  {
   "cell_type": "markdown",
   "id": "cc7ea597",
   "metadata": {},
   "source": [
    "## 3. Calculate the city wise spend on each product on yearly basis. Also include a graphical representation for the same."
   ]
  },
  {
   "cell_type": "code",
   "execution_count": 14,
   "id": "189eb0a2",
   "metadata": {},
   "outputs": [
    {
     "data": {
      "image/png": "[encoded data removed]",
      "text/plain": [
       "<Figure size 972x648 with 1 Axes>"
      ]
     },
     "metadata": {
      "needs_background": "light"
     },
     "output_type": "display_data"
    }
   ],
   "source": [
    "credit_spend=pd.merge(how='inner',left=Credit_data,right=Spend,left_on='Customer',right_on='Customer')\n",
    "credit_spend['Year']=credit_spend.Month.dt.year\n",
    "spend_city=pd.pivot_table(data=credit_spend,values='Amount',index=['City','Year'],columns='Product',aggfunc='sum')\n",
    "spend_city.plot(kind='bar',stacked=True,figsize=[13.5,9],ylabel='Amount',color=['grey','pink','yellow'])\n",
    "plt.show()"
   ]
  },
  {
   "cell_type": "markdown",
   "id": "eb06a9b2",
   "metadata": {},
   "source": [
    "## 4. Create graphs for\n",
    "## a. Monthly comparison of total spends, city wise"
   ]
  },
  {
   "cell_type": "code",
   "execution_count": 15,
   "id": "c9378eae",
   "metadata": {},
   "outputs": [
    {
     "data": {
      "image/png": "[encoded data removed]",
      "text/plain": [
       "<Figure size 972x648 with 1 Axes>"
      ]
     },
     "metadata": {
      "needs_background": "light"
     },
     "output_type": "display_data"
    }
   ],
   "source": [
    "comp=pd.pivot_table(data=credit_spend,values='Amount',index='Month1',columns='City',aggfunc='sum')\n",
    "comp.plot(kind='line',figsize=[13.5,9],ylabel='Amount')\n",
    "plt.show()"
   ]
  },
  {
   "cell_type": "markdown",
   "id": "6f45b351",
   "metadata": {},
   "source": [
    "## b. Comparison of yearly spend on air tickets"
   ]
  },
  {
   "cell_type": "code",
   "execution_count": 16,
   "id": "b1d15bd4",
   "metadata": {},
   "outputs": [
    {
     "data": {
      "image/png": "[encoded data removed]",
      "text/plain": [
       "<Figure size 792x792 with 1 Axes>"
      ]
     },
     "metadata": {
      "needs_background": "light"
     },
     "output_type": "display_data"
    }
   ],
   "source": [
    "Spend['Year']=Spend.Month.dt.year\n",
    "Spend=Spend[Spend.Type=='AIR TICKET']\n",
    "Spend1=Spend.groupby(by='Year')[['Amount']].sum()\n",
    "Spend1.plot(kind='bar',figsize=[11,11],ylabel='Amount',color='Orange')\n",
    "plt.show()"
   ]
  },
  {
   "cell_type": "markdown",
   "id": "1bd859c3",
   "metadata": {},
   "source": [
    "# c. Comparison of monthly spend for each product (look for any seasonality that exists in terms of spend)"
   ]
  },
  {
   "cell_type": "code",
   "execution_count": 17,
   "id": "1d0475e3",
   "metadata": {},
   "outputs": [
    {
     "data": {
      "image/png": "[encoded data removed]",
      "text/plain": [
       "<Figure size 972x648 with 1 Axes>"
      ]
     },
     "metadata": {
      "needs_background": "light"
     },
     "output_type": "display_data"
    }
   ],
   "source": [
    "group=pd.pivot_table(data=credit_spend,values='Amount',index='Month1',columns='Product',aggfunc='sum')\n",
    "group.plot(kind='line',figsize=[13.5,9],ylabel='Amount')\n",
    "plt.show()"
   ]
  },
  {
   "cell_type": "markdown",
   "id": "72cd5530",
   "metadata": {},
   "source": [
    "## 5. Write user defined PYTHON function to perform the following analysis:\n",
    "## You need to find top 10 customers for each city in terms of their repayment amount by different products and by different time periods i.e. year or month. The user should be able to specify the product (Gold/Silver/Platinum) and time period (yearly or monthly) and the function should automatically take these inputs while identifying the top 10 customers.\n",
    "AnalytixLabs, Website:"
   ]
  },
  {
   "cell_type": "code",
   "execution_count": 33,
   "id": "518ec898",
   "metadata": {},
   "outputs": [
    {
     "name": "stdout",
     "output_type": "stream",
     "text": [
      "Enter the year:2004\n",
      "Enter the product:Gold\n",
      "Enter the city:DELHI\n"
     ]
    },
    {
     "data": {
      "text/html": [
       "<div>\n",
       "<style scoped>\n",
       "    .dataframe tbody tr th:only-of-type {\n",
       "        vertical-align: middle;\n",
       "    }\n",
       "\n",
       "    .dataframe tbody tr th {\n",
       "        vertical-align: top;\n",
       "    }\n",
       "\n",
       "    .dataframe thead th {\n",
       "        text-align: right;\n",
       "    }\n",
       "</style>\n",
       "<table border=\"1\" class=\"dataframe\">\n",
       "  <thead>\n",
       "    <tr style=\"text-align: right;\">\n",
       "      <th></th>\n",
       "      <th></th>\n",
       "      <th></th>\n",
       "      <th></th>\n",
       "      <th>Amount</th>\n",
       "    </tr>\n",
       "    <tr>\n",
       "      <th>Year</th>\n",
       "      <th>Product</th>\n",
       "      <th>City</th>\n",
       "      <th>Customer</th>\n",
       "      <th></th>\n",
       "    </tr>\n",
       "  </thead>\n",
       "  <tbody>\n",
       "    <tr>\n",
       "      <th rowspan=\"2\" valign=\"top\">2004</th>\n",
       "      <th rowspan=\"2\" valign=\"top\">Gold</th>\n",
       "      <th rowspan=\"2\" valign=\"top\">DELHI</th>\n",
       "      <th>A44</th>\n",
       "      <td>2149383.50</td>\n",
       "    </tr>\n",
       "    <tr>\n",
       "      <th>A93</th>\n",
       "      <td>342326.14</td>\n",
       "    </tr>\n",
       "  </tbody>\n",
       "</table>\n",
       "</div>"
      ],
      "text/plain": [
       "                                 Amount\n",
       "Year Product City  Customer            \n",
       "2004 Gold    DELHI A44       2149383.50\n",
       "                   A93        342326.14"
      ]
     },
     "execution_count": 33,
     "metadata": {},
     "output_type": "execute_result"
    }
   ],
   "source": [
    "repay_credit=pd.merge(how='inner',left=Repay,right=Credit_data,on='Customer')\n",
    "repay_credit['Year']=repay_credit.Month.dt.year\n",
    "time_period=int(input('Enter the year:'))\n",
    "prod_cat=input('Enter the product:')\n",
    "city_name=input('Enter the city:')\n",
    "new=repay_credit.loc[(repay_credit.Product == prod_cat)& (repay_credit.Year==time_period)&(repay_credit.City==city_name) ]\n",
    "def top10Customers(prod_cat,time_period):\n",
    "    #return pd.pivot_table(data=new,values='Amount',index=['Year','Product','City','Customer'],aggfunc='sum').sort_values(by='Amount',ascending=False).head(10)\n",
    "    return new.groupby(by=['Year','Product','City','Customer'])[['Amount']].sum().sort_values(by='Amount',ascending=False).head(10)\n",
    "top10Customers(prod_cat,time_period)"
   ]
  },
  {
   "cell_type": "code",
   "execution_count": null,
   "id": "be3742b1",
   "metadata": {},
   "outputs": [],
   "source": [
    "\n"
   ]
  },
  {
   "cell_type": "code",
   "execution_count": null,
   "id": "b3ef2a61",
   "metadata": {},
   "outputs": [],
   "source": [
    "\n"
   ]
  },
  {
   "cell_type": "code",
   "execution_count": null,
   "id": "b92a1a7d",
   "metadata": {},
   "outputs": [],
   "source": []
  },
  {
   "cell_type": "code",
   "execution_count": null,
   "id": "20addb9b",
   "metadata": {},
   "outputs": [],
   "source": []
  },
  {
   "cell_type": "code",
   "execution_count": null,
   "id": "7c47191f",
   "metadata": {},
   "outputs": [],
   "source": []
  },
  {
   "cell_type": "code",
   "execution_count": null,
   "id": "92086b26",
   "metadata": {},
   "outputs": [],
   "source": []
  },
  {
   "cell_type": "code",
   "execution_count": null,
   "id": "b363f8ea",
   "metadata": {},
   "outputs": [],
   "source": []
  },
  {
   "cell_type": "code",
   "execution_count": null,
   "id": "caa2538e",
   "metadata": {},
   "outputs": [],
   "source": []
  },
  {
   "cell_type": "code",
   "execution_count": null,
   "id": "ea3d7228",
   "metadata": {},
   "outputs": [],
   "source": []
  }
 ],
 "metadata": {
  "kernelspec": {
   "display_name": "Python 3 (ipykernel)",
   "language": "python",
   "name": "python3"
  },
  "language_info": {
   "codemirror_mode": {
    "name": "ipython",
    "version": 3
   },
   "file_extension": ".py",
   "mimetype": "text/x-python",
   "name": "python",
   "nbconvert_exporter": "python",
   "pygments_lexer": "ipython3",
   "version": "3.9.12"
  }
 },
 "nbformat": 4,
 "nbformat_minor": 5
}
