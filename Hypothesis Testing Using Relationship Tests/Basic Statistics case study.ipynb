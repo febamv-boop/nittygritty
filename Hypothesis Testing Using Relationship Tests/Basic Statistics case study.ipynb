{
 "cells": [
  {
   "cell_type": "markdown",
   "id": "4d684ce5",
   "metadata": {},
   "source": [
    "## IMPORTING PACKAGES:"
   ]
  },
  {
   "cell_type": "code",
   "execution_count": 1,
   "id": "7cf1e0e9",
   "metadata": {},
   "outputs": [],
   "source": [
    "import math\n",
    "import pandas as pd\n",
    "import numpy as np\n",
    "import datetime\n",
    "from datetime import datetime as dt\n",
    "import scipy\n",
    "from scipy import stats\n",
    "from scipy.stats import chi2_contingency\n",
    "import os"
   ]
  },
  {
   "cell_type": "markdown",
   "id": "89e075b2",
   "metadata": {},
   "source": [
    "##                                         BUSINESS PROBLEM-1"
   ]
  },
  {
   "cell_type": "markdown",
   "id": "3498eb8e",
   "metadata": {},
   "source": [
    "## BACKGROUND: \n",
    "The Lending Club is a peer-to-peer lending site where members make loans to each other. The site makes anonymized data on loans and borrowers publicly available."
   ]
  },
  {
   "cell_type": "markdown",
   "id": "2b4c7fc6",
   "metadata": {},
   "source": [
    "## BUSINESS PROBLEM:\n",
    "Using lending club loans data, the team would like to test below hypothesis on how different factors effecing each other"
   ]
  },
  {
   "cell_type": "markdown",
   "id": "bde90a24",
   "metadata": {},
   "source": [
    "## DATA AVAILABLE:"
   ]
  },
  {
   "cell_type": "code",
   "execution_count": 2,
   "id": "08fb0e4e",
   "metadata": {},
   "outputs": [
    {
     "name": "stdout",
     "output_type": "stream",
     "text": [
      "C:\\Users\\itsfe\\Downloads\\Basic Statistics - Hypothesis Testing\n"
     ]
    }
   ],
   "source": [
    "stat=%cd \"C:\\Users\\itsfe\\Downloads\\Basic Statistics - Hypothesis Testing\"\n",
    "loan=pd.read_csv('LoansData.csv')"
   ]
  },
  {
   "cell_type": "markdown",
   "id": "b56eae8e",
   "metadata": {},
   "source": [
    "## DATA CLEANING"
   ]
  },
  {
   "cell_type": "code",
   "execution_count": 3,
   "id": "946afed9",
   "metadata": {},
   "outputs": [
    {
     "name": "stdout",
     "output_type": "stream",
     "text": [
      "<class 'pandas.core.frame.DataFrame'>\n",
      "RangeIndex: 2500 entries, 0 to 2499\n",
      "Data columns (total 14 columns):\n",
      " #   Column                          Non-Null Count  Dtype  \n",
      "---  ------                          --------------  -----  \n",
      " 0   Amount_Requested                2499 non-null   float64\n",
      " 1   Amount_Funded_By_Investors      2499 non-null   float64\n",
      " 2   Interest_Rate                   2498 non-null   float64\n",
      " 3   Loan_Length                     2500 non-null   float64\n",
      " 4   Loan_Purpose                    2500 non-null   object \n",
      " 5   Debt_To_Income_Ratio            2499 non-null   float64\n",
      " 6   State                           2500 non-null   object \n",
      " 7   Home_Ownership                  2499 non-null   object \n",
      " 8   Monthly_Income                  2499 non-null   float64\n",
      " 9   FICO_Range                      2498 non-null   float64\n",
      " 10  Open_CREDIT_Lines               2497 non-null   float64\n",
      " 11  Revolving_CREDIT_Balance        2497 non-null   float64\n",
      " 12  Inquiries_in_the_Last_6 Months  2497 non-null   float64\n",
      " 13  Employment_Length               2423 non-null   float64\n",
      "dtypes: float64(11), object(3)\n",
      "memory usage: 273.6+ KB\n"
     ]
    },
    {
     "name": "stderr",
     "output_type": "stream",
     "text": [
      "C:\\Users\\itsfe\\AppData\\Local\\Temp\\ipykernel_15948\\3923857273.py:6: FutureWarning: The default value of regex will change from True to False in a future version.\n",
      "  loan['Employment_Length']=loan.Employment_Length.str.replace(r'\\D+','')\n"
     ]
    }
   ],
   "source": [
    "loan.columns=['Amount_Requested','Amount_Funded_By_Investors','Interest_Rate','Loan_Length','Loan_Purpose','Debt_To_Income_Ratio','State','Home_Ownership','Monthly_Income','FICO_Range','Open_CREDIT_Lines','Revolving_CREDIT_Balance','Inquiries_in_the_Last_6 Months','Employment_Length']\n",
    "\n",
    "loan['FICO_Range']=loan['FICO_Range'].str[-3:]\n",
    "loan['FICO_Range']=pd.to_numeric(loan['FICO_Range'],errors='coerce')\n",
    "\n",
    "loan['Employment_Length']=loan.Employment_Length.str.replace(r'\\D+','')\n",
    "loan['Employment_Length']=pd.to_numeric(loan['Employment_Length'],errors='coerce')\n",
    "\n",
    "loan['Loan_Length']=loan.Loan_Length.apply(lambda x:float(str(x).replace('months','')))\n",
    "\n",
    "loan['Interest_Rate']=loan['Interest_Rate'].str.replace('%','')\n",
    "loan['Interest_Rate']=pd.to_numeric(loan['Interest_Rate'],errors='coerce')\n",
    "\n",
    "loan['Debt_To_Income_Ratio']=loan['Debt_To_Income_Ratio'].str.replace('%','')\n",
    "loan['Debt_To_Income_Ratio']=pd.to_numeric(loan['Debt_To_Income_Ratio'],errors='coerce')\n",
    "loan.head(2)\n",
    "loan.info()"
   ]
  },
  {
   "cell_type": "markdown",
   "id": "e78200a5",
   "metadata": {},
   "source": [
    "Treating Missing Values:"
   ]
  },
  {
   "cell_type": "code",
   "execution_count": 4,
   "id": "cc9002b6",
   "metadata": {},
   "outputs": [],
   "source": [
    "def miss_treat(x):\n",
    "    if x.dtype=='float':\n",
    "        x=x.fillna(x.median())\n",
    "    else:\n",
    "        x=x.fillna(x.mode()[0])\n",
    "    return x"
   ]
  },
  {
   "cell_type": "code",
   "execution_count": 5,
   "id": "67da5853",
   "metadata": {},
   "outputs": [
    {
     "data": {
      "text/html": [
       "<div>\n",
       "<style scoped>\n",
       "    .dataframe tbody tr th:only-of-type {\n",
       "        vertical-align: middle;\n",
       "    }\n",
       "\n",
       "    .dataframe tbody tr th {\n",
       "        vertical-align: top;\n",
       "    }\n",
       "\n",
       "    .dataframe thead th {\n",
       "        text-align: right;\n",
       "    }\n",
       "</style>\n",
       "<table border=\"1\" class=\"dataframe\">\n",
       "  <thead>\n",
       "    <tr style=\"text-align: right;\">\n",
       "      <th></th>\n",
       "      <th>Amount_Requested</th>\n",
       "      <th>Amount_Funded_By_Investors</th>\n",
       "      <th>Interest_Rate</th>\n",
       "      <th>Loan_Length</th>\n",
       "      <th>Loan_Purpose</th>\n",
       "      <th>Debt_To_Income_Ratio</th>\n",
       "      <th>State</th>\n",
       "      <th>Home_Ownership</th>\n",
       "      <th>Monthly_Income</th>\n",
       "      <th>FICO_Range</th>\n",
       "      <th>Open_CREDIT_Lines</th>\n",
       "      <th>Revolving_CREDIT_Balance</th>\n",
       "      <th>Inquiries_in_the_Last_6 Months</th>\n",
       "      <th>Employment_Length</th>\n",
       "    </tr>\n",
       "  </thead>\n",
       "  <tbody>\n",
       "    <tr>\n",
       "      <th>0</th>\n",
       "      <td>20000.0</td>\n",
       "      <td>20000.0</td>\n",
       "      <td>8.90</td>\n",
       "      <td>36.0</td>\n",
       "      <td>debt_consolidation</td>\n",
       "      <td>14.90</td>\n",
       "      <td>SC</td>\n",
       "      <td>MORTGAGE</td>\n",
       "      <td>6541.67</td>\n",
       "      <td>739.0</td>\n",
       "      <td>14.0</td>\n",
       "      <td>14272.0</td>\n",
       "      <td>2.0</td>\n",
       "      <td>1.0</td>\n",
       "    </tr>\n",
       "    <tr>\n",
       "      <th>1</th>\n",
       "      <td>19200.0</td>\n",
       "      <td>19200.0</td>\n",
       "      <td>12.12</td>\n",
       "      <td>36.0</td>\n",
       "      <td>debt_consolidation</td>\n",
       "      <td>28.36</td>\n",
       "      <td>TX</td>\n",
       "      <td>MORTGAGE</td>\n",
       "      <td>4583.33</td>\n",
       "      <td>719.0</td>\n",
       "      <td>12.0</td>\n",
       "      <td>11140.0</td>\n",
       "      <td>1.0</td>\n",
       "      <td>2.0</td>\n",
       "    </tr>\n",
       "    <tr>\n",
       "      <th>2</th>\n",
       "      <td>35000.0</td>\n",
       "      <td>35000.0</td>\n",
       "      <td>21.98</td>\n",
       "      <td>60.0</td>\n",
       "      <td>debt_consolidation</td>\n",
       "      <td>23.81</td>\n",
       "      <td>CA</td>\n",
       "      <td>MORTGAGE</td>\n",
       "      <td>11500.00</td>\n",
       "      <td>694.0</td>\n",
       "      <td>14.0</td>\n",
       "      <td>21977.0</td>\n",
       "      <td>1.0</td>\n",
       "      <td>2.0</td>\n",
       "    </tr>\n",
       "    <tr>\n",
       "      <th>3</th>\n",
       "      <td>10000.0</td>\n",
       "      <td>9975.0</td>\n",
       "      <td>9.99</td>\n",
       "      <td>36.0</td>\n",
       "      <td>debt_consolidation</td>\n",
       "      <td>14.30</td>\n",
       "      <td>KS</td>\n",
       "      <td>MORTGAGE</td>\n",
       "      <td>3833.33</td>\n",
       "      <td>699.0</td>\n",
       "      <td>10.0</td>\n",
       "      <td>9346.0</td>\n",
       "      <td>0.0</td>\n",
       "      <td>5.0</td>\n",
       "    </tr>\n",
       "    <tr>\n",
       "      <th>4</th>\n",
       "      <td>12000.0</td>\n",
       "      <td>12000.0</td>\n",
       "      <td>11.71</td>\n",
       "      <td>36.0</td>\n",
       "      <td>credit_card</td>\n",
       "      <td>18.78</td>\n",
       "      <td>NJ</td>\n",
       "      <td>RENT</td>\n",
       "      <td>3195.00</td>\n",
       "      <td>699.0</td>\n",
       "      <td>11.0</td>\n",
       "      <td>14469.0</td>\n",
       "      <td>0.0</td>\n",
       "      <td>9.0</td>\n",
       "    </tr>\n",
       "    <tr>\n",
       "      <th>5</th>\n",
       "      <td>6000.0</td>\n",
       "      <td>6000.0</td>\n",
       "      <td>15.31</td>\n",
       "      <td>36.0</td>\n",
       "      <td>other</td>\n",
       "      <td>20.05</td>\n",
       "      <td>CT</td>\n",
       "      <td>OWN</td>\n",
       "      <td>4891.67</td>\n",
       "      <td>674.0</td>\n",
       "      <td>17.0</td>\n",
       "      <td>10391.0</td>\n",
       "      <td>2.0</td>\n",
       "      <td>3.0</td>\n",
       "    </tr>\n",
       "    <tr>\n",
       "      <th>6</th>\n",
       "      <td>10000.0</td>\n",
       "      <td>10000.0</td>\n",
       "      <td>7.90</td>\n",
       "      <td>36.0</td>\n",
       "      <td>debt_consolidation</td>\n",
       "      <td>26.09</td>\n",
       "      <td>MA</td>\n",
       "      <td>RENT</td>\n",
       "      <td>2916.67</td>\n",
       "      <td>724.0</td>\n",
       "      <td>10.0</td>\n",
       "      <td>15957.0</td>\n",
       "      <td>0.0</td>\n",
       "      <td>10.0</td>\n",
       "    </tr>\n",
       "    <tr>\n",
       "      <th>7</th>\n",
       "      <td>33500.0</td>\n",
       "      <td>33450.0</td>\n",
       "      <td>17.14</td>\n",
       "      <td>60.0</td>\n",
       "      <td>credit_card</td>\n",
       "      <td>14.70</td>\n",
       "      <td>LA</td>\n",
       "      <td>MORTGAGE</td>\n",
       "      <td>13863.42</td>\n",
       "      <td>709.0</td>\n",
       "      <td>12.0</td>\n",
       "      <td>27874.0</td>\n",
       "      <td>0.0</td>\n",
       "      <td>10.0</td>\n",
       "    </tr>\n",
       "    <tr>\n",
       "      <th>8</th>\n",
       "      <td>14675.0</td>\n",
       "      <td>14675.0</td>\n",
       "      <td>14.33</td>\n",
       "      <td>36.0</td>\n",
       "      <td>credit_card</td>\n",
       "      <td>26.92</td>\n",
       "      <td>CA</td>\n",
       "      <td>RENT</td>\n",
       "      <td>3150.00</td>\n",
       "      <td>689.0</td>\n",
       "      <td>9.0</td>\n",
       "      <td>7246.0</td>\n",
       "      <td>1.0</td>\n",
       "      <td>8.0</td>\n",
       "    </tr>\n",
       "    <tr>\n",
       "      <th>9</th>\n",
       "      <td>7000.0</td>\n",
       "      <td>7000.0</td>\n",
       "      <td>6.91</td>\n",
       "      <td>36.0</td>\n",
       "      <td>credit_card</td>\n",
       "      <td>7.10</td>\n",
       "      <td>CA</td>\n",
       "      <td>RENT</td>\n",
       "      <td>5000.00</td>\n",
       "      <td>719.0</td>\n",
       "      <td>8.0</td>\n",
       "      <td>7612.0</td>\n",
       "      <td>0.0</td>\n",
       "      <td>3.0</td>\n",
       "    </tr>\n",
       "  </tbody>\n",
       "</table>\n",
       "</div>"
      ],
      "text/plain": [
       "   Amount_Requested  Amount_Funded_By_Investors  Interest_Rate  Loan_Length  \\\n",
       "0           20000.0                     20000.0           8.90         36.0   \n",
       "1           19200.0                     19200.0          12.12         36.0   \n",
       "2           35000.0                     35000.0          21.98         60.0   \n",
       "3           10000.0                      9975.0           9.99         36.0   \n",
       "4           12000.0                     12000.0          11.71         36.0   \n",
       "5            6000.0                      6000.0          15.31         36.0   \n",
       "6           10000.0                     10000.0           7.90         36.0   \n",
       "7           33500.0                     33450.0          17.14         60.0   \n",
       "8           14675.0                     14675.0          14.33         36.0   \n",
       "9            7000.0                      7000.0           6.91         36.0   \n",
       "\n",
       "         Loan_Purpose  Debt_To_Income_Ratio State Home_Ownership  \\\n",
       "0  debt_consolidation                 14.90    SC       MORTGAGE   \n",
       "1  debt_consolidation                 28.36    TX       MORTGAGE   \n",
       "2  debt_consolidation                 23.81    CA       MORTGAGE   \n",
       "3  debt_consolidation                 14.30    KS       MORTGAGE   \n",
       "4         credit_card                 18.78    NJ           RENT   \n",
       "5               other                 20.05    CT            OWN   \n",
       "6  debt_consolidation                 26.09    MA           RENT   \n",
       "7         credit_card                 14.70    LA       MORTGAGE   \n",
       "8         credit_card                 26.92    CA           RENT   \n",
       "9         credit_card                  7.10    CA           RENT   \n",
       "\n",
       "   Monthly_Income  FICO_Range  Open_CREDIT_Lines  Revolving_CREDIT_Balance  \\\n",
       "0         6541.67       739.0               14.0                   14272.0   \n",
       "1         4583.33       719.0               12.0                   11140.0   \n",
       "2        11500.00       694.0               14.0                   21977.0   \n",
       "3         3833.33       699.0               10.0                    9346.0   \n",
       "4         3195.00       699.0               11.0                   14469.0   \n",
       "5         4891.67       674.0               17.0                   10391.0   \n",
       "6         2916.67       724.0               10.0                   15957.0   \n",
       "7        13863.42       709.0               12.0                   27874.0   \n",
       "8         3150.00       689.0                9.0                    7246.0   \n",
       "9         5000.00       719.0                8.0                    7612.0   \n",
       "\n",
       "   Inquiries_in_the_Last_6 Months  Employment_Length  \n",
       "0                             2.0                1.0  \n",
       "1                             1.0                2.0  \n",
       "2                             1.0                2.0  \n",
       "3                             0.0                5.0  \n",
       "4                             0.0                9.0  \n",
       "5                             2.0                3.0  \n",
       "6                             0.0               10.0  \n",
       "7                             0.0               10.0  \n",
       "8                             1.0                8.0  \n",
       "9                             0.0                3.0  "
      ]
     },
     "execution_count": 5,
     "metadata": {},
     "output_type": "execute_result"
    }
   ],
   "source": [
    "loan=loan.apply(miss_treat)\n",
    "loan.head(10)\n"
   ]
  },
  {
   "cell_type": "markdown",
   "id": "d00ce29f",
   "metadata": {},
   "source": [
    "## a. Intrest rate is varied for different loan amounts (Less intrest charged for high loan amounts)"
   ]
  },
  {
   "cell_type": "markdown",
   "id": "f9f5a27d",
   "metadata": {},
   "source": [
    "## Step 1"
   ]
  },
  {
   "cell_type": "markdown",
   "id": "5a8d3021",
   "metadata": {},
   "source": [
    "## Defining Parameters"
   ]
  },
  {
   "cell_type": "markdown",
   "id": "15f9590e",
   "metadata": {},
   "source": [
    "Null Hypothesis,H0 : There is no significant relationship between Interest rate and Loan Amounts\n",
    "\n",
    "Alternative Hypothesis,Ha : There is significant relationship between Interest rate and Loan Amounts"
   ]
  },
  {
   "cell_type": "markdown",
   "id": "6b2549a5",
   "metadata": {},
   "source": [
    "## Step 2"
   ]
  },
  {
   "cell_type": "markdown",
   "id": "e80a4bae",
   "metadata": {},
   "source": [
    "## Correlation Test"
   ]
  },
  {
   "cell_type": "code",
   "execution_count": 6,
   "id": "8d642db0",
   "metadata": {},
   "outputs": [
    {
     "name": "stdout",
     "output_type": "stream",
     "text": [
      "rvalue is:0.3374589686089662\n",
      "pvalue is:1.2376653981362837e-67\n",
      "There is a significant relationship between Interest rate and Loan Amounts\n"
     ]
    }
   ],
   "source": [
    "rvalue,pval=stats.pearsonr(loan.Interest_Rate,loan.Amount_Funded_By_Investors)\n",
    "print(f'rvalue is:{rvalue}')\n",
    "print(f'pvalue is:{pval}')\n",
    "if pval<0.05:\n",
    "    print('There is a significant relationship between Interest rate and Loan Amounts')\n",
    "else:\n",
    "    print('There is no significant relationship between Interest rate and Loan Amounts')"
   ]
  },
  {
   "cell_type": "markdown",
   "id": "9ce0d971",
   "metadata": {},
   "source": [
    "## Step3"
   ]
  },
  {
   "cell_type": "markdown",
   "id": "77f31b3c",
   "metadata": {},
   "source": [
    "## Conclusion"
   ]
  },
  {
   "cell_type": "markdown",
   "id": "1ed6379a",
   "metadata": {},
   "source": [
    "Since pvalue is less than 0.05 and r value is positive ,we can reject H0 and accept Ha,ie, Interest Rate varies directly with different Loan Amounts."
   ]
  },
  {
   "cell_type": "markdown",
   "id": "069f6718",
   "metadata": {},
   "source": [
    "## b. Loan length is directly effecting intrest rate."
   ]
  },
  {
   "cell_type": "markdown",
   "id": "ada672b6",
   "metadata": {},
   "source": [
    "## Step 1"
   ]
  },
  {
   "cell_type": "markdown",
   "id": "4bc42992",
   "metadata": {},
   "source": [
    "## Defining Parameters\n",
    "Null Hypothesis,H0 : Loan length is not effecting intrest rate.\n",
    "\n",
    "Alternative Hypothesis,Ha :Loan length is directly effecting intrest rate."
   ]
  },
  {
   "cell_type": "markdown",
   "id": "2cfc1cb5",
   "metadata": {},
   "source": [
    "## Step 2"
   ]
  },
  {
   "cell_type": "markdown",
   "id": "73deacbf",
   "metadata": {},
   "source": [
    "## Correlation Test"
   ]
  },
  {
   "cell_type": "code",
   "execution_count": 7,
   "id": "147cb194",
   "metadata": {},
   "outputs": [
    {
     "name": "stdout",
     "output_type": "stream",
     "text": [
      "rvalue is:0.42416737515954295\n",
      "pvalue is:9.605991607854548e-110\n",
      "There is a significant relationship between Loan Length and Interest Rate\n"
     ]
    }
   ],
   "source": [
    "rvalue,pval=stats.pearsonr(loan.Loan_Length,loan.Interest_Rate)\n",
    "print(f'rvalue is:{rvalue}')\n",
    "print(f'pvalue is:{pval}')\n",
    "if pval<0.05:\n",
    "    print('There is a significant relationship between Loan Length and Interest Rate')\n",
    "else:\n",
    "    print('There is no significant relationship between Loan Length and Interest Rate')\n"
   ]
  },
  {
   "cell_type": "markdown",
   "id": "a1be53ff",
   "metadata": {},
   "source": [
    "## Step 3"
   ]
  },
  {
   "cell_type": "markdown",
   "id": "075d1ac1",
   "metadata": {},
   "source": [
    "## Conclusion"
   ]
  },
  {
   "cell_type": "markdown",
   "id": "5a01fd85",
   "metadata": {},
   "source": [
    "Since pvalue is less than 0.05 and r value is positive ,we can reject H0 and accept Ha, ie,  Loan Length is directly affecting Interest Rate"
   ]
  },
  {
   "cell_type": "markdown",
   "id": "69d36971",
   "metadata": {},
   "source": [
    "## c. Interest rate varies for different purpose of loans."
   ]
  },
  {
   "cell_type": "markdown",
   "id": "c337fc89",
   "metadata": {},
   "source": [
    "## Step 1"
   ]
  },
  {
   "cell_type": "markdown",
   "id": "cae9aa71",
   "metadata": {},
   "source": [
    "## Defining Parameters\n",
    "Null Hypothesis,H0 : Interest rate does not vary with loan purpose.\n",
    "\n",
    "Alternative Hypothesis,Ha :Interest rate varies with loan purpose."
   ]
  },
  {
   "cell_type": "markdown",
   "id": "ca3e5584",
   "metadata": {},
   "source": [
    "## Step 2"
   ]
  },
  {
   "cell_type": "markdown",
   "id": "1b2e94f9",
   "metadata": {},
   "source": [
    "## Ftest"
   ]
  },
  {
   "cell_type": "code",
   "execution_count": 8,
   "id": "5225be57",
   "metadata": {},
   "outputs": [],
   "source": [
    "dt_con=loan.Interest_Rate[loan.Loan_Purpose=='debt_consolidation']\n",
    "cr_cd=loan.Interest_Rate[loan.Loan_Purpose=='credit_card']\n",
    "oth=loan.Interest_Rate[loan.Loan_Purpose=='other']       \n",
    "mov=loan.Interest_Rate[loan.Loan_Purpose=='moving']\n",
    "car=loan.Interest_Rate[loan.Loan_Purpose=='car']\n",
    "vac=loan.Interest_Rate[loan.Loan_Purpose=='vacation']\n",
    "home=loan.Interest_Rate[loan.Loan_Purpose=='home_improvement']\n",
    "house=loan.Interest_Rate[loan.Loan_Purpose=='house']\n",
    "maj_pur=loan.Interest_Rate[loan.Loan_Purpose=='major_purchase']\n",
    "edu=loan.Interest_Rate[loan.Loan_Purpose=='educational']\n",
    "med=loan.Interest_Rate[loan.Loan_Purpose=='medical']\n",
    "wed=loan.Interest_Rate[loan.Loan_Purpose=='wedding']\n",
    "bus=loan.Interest_Rate[loan.Loan_Purpose=='small_business']"
   ]
  },
  {
   "cell_type": "code",
   "execution_count": 9,
   "id": "bc23a66f",
   "metadata": {},
   "outputs": [
    {
     "name": "stdout",
     "output_type": "stream",
     "text": [
      "fvalue is:7.901182879604524\n",
      "pvalue is:1.1636926239581812e-14\n",
      "There is a significant relationship between Loan Purpose and Interest Rate\n"
     ]
    }
   ],
   "source": [
    "fval,pval=stats.f_oneway(dt_con,cr_cd,oth,mov,car,vac,home,house,maj_pur,edu,med,wed,bus)\n",
    "print(f'fvalue is:{fval}')\n",
    "print(f'pvalue is:{pval}')\n",
    "if pval<0.05:\n",
    "    print('There is a significant relationship between Loan Purpose and Interest Rate')\n",
    "else:\n",
    "    print('There is no significant relationship between Loan Purpose and Interest Rate')\n"
   ]
  },
  {
   "cell_type": "markdown",
   "id": "35a3d169",
   "metadata": {},
   "source": [
    "## Step 3"
   ]
  },
  {
   "cell_type": "markdown",
   "id": "e59dcfb5",
   "metadata": {},
   "source": [
    "## Conclusion"
   ]
  },
  {
   "cell_type": "markdown",
   "id": "e7d6c721",
   "metadata": {},
   "source": [
    "Since pvalue is less than 0.05 ,we can reject H0 and accept Ha, ie, Interest Rate varies for Loan Purpose."
   ]
  },
  {
   "cell_type": "markdown",
   "id": "d8ad9b2a",
   "metadata": {},
   "source": [
    "## d. There is relationship between FICO scores and Home Ownership. It means that, People with owning home will have high FICO scores"
   ]
  },
  {
   "cell_type": "markdown",
   "id": "91b401f4",
   "metadata": {},
   "source": [
    "## Step 1"
   ]
  },
  {
   "cell_type": "markdown",
   "id": "b2df4c79",
   "metadata": {},
   "source": [
    "## Defining Parameters\n",
    "Null Hypothesis,H0 : There is no significant relationship between FICO Scores and Home Ownership.\n",
    "\n",
    "Alternative Hypothesis,Ha :There is a significant relationship between FICO Scores and Home Ownership."
   ]
  },
  {
   "cell_type": "markdown",
   "id": "56b61b60",
   "metadata": {},
   "source": [
    "## Step 2"
   ]
  },
  {
   "cell_type": "markdown",
   "id": "cb59929c",
   "metadata": {},
   "source": [
    "## Ftest"
   ]
  },
  {
   "cell_type": "code",
   "execution_count": 10,
   "id": "a9971b63",
   "metadata": {},
   "outputs": [],
   "source": [
    "mort=loan.FICO_Range[loan.Home_Ownership=='MORTGAGE']\n",
    "own=loan.FICO_Range[loan.Home_Ownership=='OWN']\n",
    "rent=loan.FICO_Range[loan.Home_Ownership=='RENT']"
   ]
  },
  {
   "cell_type": "code",
   "execution_count": 11,
   "id": "c4c4d0d5",
   "metadata": {},
   "outputs": [
    {
     "name": "stdout",
     "output_type": "stream",
     "text": [
      "fvalue is:32.5186475595199\n",
      "pvalue is:1.1443189380841834e-14\n",
      "There is a significant relationship between FICO Scores and Home Ownership\n"
     ]
    }
   ],
   "source": [
    "fval,pval=stats.f_oneway(mort,own,rent)\n",
    "print(f'fvalue is:{fval}')\n",
    "print(f'pvalue is:{pval}')\n",
    "if pval<0.05:\n",
    "    print('There is a significant relationship between FICO Scores and Home Ownership')\n",
    "else:\n",
    "    print('There is no significant relationship between FICO Scores and Home Ownership')"
   ]
  },
  {
   "cell_type": "markdown",
   "id": "3f9ab044",
   "metadata": {},
   "source": [
    "## Step 3"
   ]
  },
  {
   "cell_type": "markdown",
   "id": "5e9be5b4",
   "metadata": {},
   "source": [
    "## Conclusion"
   ]
  },
  {
   "cell_type": "markdown",
   "id": "61baf52f",
   "metadata": {},
   "source": [
    "Since pvalue is less than 0.05 ,we can reject H0 and accept Ha, ie, There is a significant relationship between FICO Scores and Home Ownership. People owning home have high FICO scores."
   ]
  },
  {
   "cell_type": "markdown",
   "id": "fe431104",
   "metadata": {},
   "source": [
    "## BUSINESS PROBLEM - 2"
   ]
  },
  {
   "cell_type": "markdown",
   "id": "5ae7c66f",
   "metadata": {},
   "source": [
    "We would like to assess if there is any difference in the average price quotes provided by Mary and Barry."
   ]
  },
  {
   "cell_type": "markdown",
   "id": "ec8b5ac8",
   "metadata": {},
   "source": [
    "## DATA AVAILABLE:"
   ]
  },
  {
   "cell_type": "code",
   "execution_count": 12,
   "id": "050ec0f7",
   "metadata": {},
   "outputs": [
    {
     "name": "stdout",
     "output_type": "stream",
     "text": [
      "<class 'pandas.core.frame.DataFrame'>\n",
      "RangeIndex: 12 entries, 0 to 11\n",
      "Data columns (total 3 columns):\n",
      " #   Column        Non-Null Count  Dtype\n",
      "---  ------        --------------  -----\n",
      " 0   Order_Number  12 non-null     int64\n",
      " 1   Barry_Price   12 non-null     int64\n",
      " 2   Mary_Price    12 non-null     int64\n",
      "dtypes: int64(3)\n",
      "memory usage: 416.0 bytes\n"
     ]
    }
   ],
   "source": [
    "price=pd.read_csv('Price_Quotes.csv')\n",
    "price.info()"
   ]
  },
  {
   "cell_type": "markdown",
   "id": "80b0cf40",
   "metadata": {},
   "source": [
    "## Step 1"
   ]
  },
  {
   "cell_type": "markdown",
   "id": "640f2ed1",
   "metadata": {},
   "source": [
    "## Defining Parameters\n",
    "Null Hypothesis,H0 : There is significant difference in the average price quotes provided by Mary and Barry.\n",
    "\n",
    "Alternative Hypothesis,Ha :There is no significant difference in the average price quotes provided by Mary and Barry."
   ]
  },
  {
   "cell_type": "markdown",
   "id": "8a45e26c",
   "metadata": {},
   "source": [
    "## Step 2"
   ]
  },
  {
   "cell_type": "markdown",
   "id": "dd9c7319",
   "metadata": {},
   "source": [
    "## Ttest Independent"
   ]
  },
  {
   "cell_type": "code",
   "execution_count": 13,
   "id": "d7799c2d",
   "metadata": {},
   "outputs": [
    {
     "name": "stdout",
     "output_type": "stream",
     "text": [
      "tvalue is:1.4147436739281787\n",
      "pvalue is:0.17114226132118285\n",
      "There is no significant relationship between Barry Price and Mary Price\n"
     ]
    }
   ],
   "source": [
    "tval,pval=stats.ttest_ind(price['Barry_Price'],price['Mary_Price'])\n",
    "print(f'tvalue is:{tval}')\n",
    "print(f'pvalue is:{pval}')\n",
    "if pval<0.05:\n",
    "    print('There is a significant relationship between Barry Price and Mary Price')\n",
    "else:\n",
    "    print('There is no significant relationship between Barry Price and Mary Price')"
   ]
  },
  {
   "cell_type": "markdown",
   "id": "b324101b",
   "metadata": {},
   "source": [
    "## Step 3"
   ]
  },
  {
   "cell_type": "markdown",
   "id": "bccc1630",
   "metadata": {},
   "source": [
    "## Conclusion"
   ]
  },
  {
   "cell_type": "markdown",
   "id": "aeba0fcb",
   "metadata": {},
   "source": [
    "Since pvalue is greater than 0.05 ,we cannot reject H0 , ie, there is difference in the average price quotes provided by Mary and Barry."
   ]
  },
  {
   "cell_type": "markdown",
   "id": "9b7b757e",
   "metadata": {},
   "source": [
    "## BUSINESS PROBLEM-3:"
   ]
  },
  {
   "cell_type": "markdown",
   "id": "b75dbc35",
   "metadata": {},
   "source": [
    "## Determine what effect, if any, the reengineering effort had on the incidence behavioral problems and staff turnover. i.e To determine if the reengineering effort changed the critical incidence rate. Is there evidence that the critical incidence rate improved?\n"
   ]
  },
  {
   "cell_type": "markdown",
   "id": "d9c71f73",
   "metadata": {},
   "source": [
    "## DATA AVAILABLE:"
   ]
  },
  {
   "cell_type": "code",
   "execution_count": 14,
   "id": "ebf1a783",
   "metadata": {},
   "outputs": [],
   "source": [
    "treat_fac=pd.read_csv('Treatment_Facility.csv')\n",
    "treat_fac.rename(columns={'VAR4':'TRFF','VAR5':'CI'},inplace=True)"
   ]
  },
  {
   "cell_type": "code",
   "execution_count": 15,
   "id": "381e7466",
   "metadata": {},
   "outputs": [
    {
     "data": {
      "text/html": [
       "<div>\n",
       "<style scoped>\n",
       "    .dataframe tbody tr th:only-of-type {\n",
       "        vertical-align: middle;\n",
       "    }\n",
       "\n",
       "    .dataframe tbody tr th {\n",
       "        vertical-align: top;\n",
       "    }\n",
       "\n",
       "    .dataframe thead th {\n",
       "        text-align: right;\n",
       "    }\n",
       "</style>\n",
       "<table border=\"1\" class=\"dataframe\">\n",
       "  <thead>\n",
       "    <tr style=\"text-align: right;\">\n",
       "      <th></th>\n",
       "      <th>Month</th>\n",
       "      <th>Reengineer</th>\n",
       "      <th>Employee_Turnover</th>\n",
       "      <th>TRFF</th>\n",
       "      <th>CI</th>\n",
       "    </tr>\n",
       "  </thead>\n",
       "  <tbody>\n",
       "    <tr>\n",
       "      <th>0</th>\n",
       "      <td>1</td>\n",
       "      <td>Prior</td>\n",
       "      <td>0.0000</td>\n",
       "      <td>24.390244</td>\n",
       "      <td>42.682927</td>\n",
       "    </tr>\n",
       "    <tr>\n",
       "      <th>1</th>\n",
       "      <td>2</td>\n",
       "      <td>Prior</td>\n",
       "      <td>6.0606</td>\n",
       "      <td>19.354839</td>\n",
       "      <td>25.806452</td>\n",
       "    </tr>\n",
       "    <tr>\n",
       "      <th>2</th>\n",
       "      <td>3</td>\n",
       "      <td>Prior</td>\n",
       "      <td>12.1212</td>\n",
       "      <td>35.087719</td>\n",
       "      <td>146.198830</td>\n",
       "    </tr>\n",
       "    <tr>\n",
       "      <th>3</th>\n",
       "      <td>4</td>\n",
       "      <td>Prior</td>\n",
       "      <td>3.3333</td>\n",
       "      <td>18.404908</td>\n",
       "      <td>110.429448</td>\n",
       "    </tr>\n",
       "    <tr>\n",
       "      <th>4</th>\n",
       "      <td>5</td>\n",
       "      <td>Prior</td>\n",
       "      <td>12.9032</td>\n",
       "      <td>17.964072</td>\n",
       "      <td>23.952096</td>\n",
       "    </tr>\n",
       "    <tr>\n",
       "      <th>5</th>\n",
       "      <td>6</td>\n",
       "      <td>Prior</td>\n",
       "      <td>9.6774</td>\n",
       "      <td>41.176471</td>\n",
       "      <td>47.058824</td>\n",
       "    </tr>\n",
       "    <tr>\n",
       "      <th>6</th>\n",
       "      <td>7</td>\n",
       "      <td>Prior</td>\n",
       "      <td>11.7647</td>\n",
       "      <td>13.422819</td>\n",
       "      <td>0.000000</td>\n",
       "    </tr>\n",
       "    <tr>\n",
       "      <th>7</th>\n",
       "      <td>8</td>\n",
       "      <td>Prior</td>\n",
       "      <td>11.4286</td>\n",
       "      <td>31.250000</td>\n",
       "      <td>25.000000</td>\n",
       "    </tr>\n",
       "    <tr>\n",
       "      <th>8</th>\n",
       "      <td>9</td>\n",
       "      <td>Prior</td>\n",
       "      <td>23.0769</td>\n",
       "      <td>17.241379</td>\n",
       "      <td>132.183908</td>\n",
       "    </tr>\n",
       "    <tr>\n",
       "      <th>9</th>\n",
       "      <td>10</td>\n",
       "      <td>Prior</td>\n",
       "      <td>15.0000</td>\n",
       "      <td>16.574586</td>\n",
       "      <td>16.574586</td>\n",
       "    </tr>\n",
       "    <tr>\n",
       "      <th>10</th>\n",
       "      <td>11</td>\n",
       "      <td>Prior</td>\n",
       "      <td>10.0000</td>\n",
       "      <td>5.917160</td>\n",
       "      <td>88.757396</td>\n",
       "    </tr>\n",
       "    <tr>\n",
       "      <th>11</th>\n",
       "      <td>12</td>\n",
       "      <td>Prior</td>\n",
       "      <td>26.0870</td>\n",
       "      <td>21.164021</td>\n",
       "      <td>31.746032</td>\n",
       "    </tr>\n",
       "    <tr>\n",
       "      <th>12</th>\n",
       "      <td>13</td>\n",
       "      <td>Prior</td>\n",
       "      <td>11.1111</td>\n",
       "      <td>5.076142</td>\n",
       "      <td>10.152284</td>\n",
       "    </tr>\n",
       "    <tr>\n",
       "      <th>13</th>\n",
       "      <td>14</td>\n",
       "      <td>Post</td>\n",
       "      <td>26.6667</td>\n",
       "      <td>9.708738</td>\n",
       "      <td>29.126214</td>\n",
       "    </tr>\n",
       "    <tr>\n",
       "      <th>14</th>\n",
       "      <td>15</td>\n",
       "      <td>Post</td>\n",
       "      <td>17.9487</td>\n",
       "      <td>4.201681</td>\n",
       "      <td>21.008403</td>\n",
       "    </tr>\n",
       "    <tr>\n",
       "      <th>15</th>\n",
       "      <td>16</td>\n",
       "      <td>Post</td>\n",
       "      <td>12.8205</td>\n",
       "      <td>13.043478</td>\n",
       "      <td>34.782609</td>\n",
       "    </tr>\n",
       "    <tr>\n",
       "      <th>16</th>\n",
       "      <td>17</td>\n",
       "      <td>Post</td>\n",
       "      <td>15.7895</td>\n",
       "      <td>9.950249</td>\n",
       "      <td>19.900498</td>\n",
       "    </tr>\n",
       "    <tr>\n",
       "      <th>17</th>\n",
       "      <td>18</td>\n",
       "      <td>Post</td>\n",
       "      <td>0.0000</td>\n",
       "      <td>9.950249</td>\n",
       "      <td>9.950249</td>\n",
       "    </tr>\n",
       "    <tr>\n",
       "      <th>18</th>\n",
       "      <td>19</td>\n",
       "      <td>Post</td>\n",
       "      <td>30.7692</td>\n",
       "      <td>8.510638</td>\n",
       "      <td>25.531915</td>\n",
       "    </tr>\n",
       "    <tr>\n",
       "      <th>19</th>\n",
       "      <td>20</td>\n",
       "      <td>Post</td>\n",
       "      <td>26.8293</td>\n",
       "      <td>9.259259</td>\n",
       "      <td>23.148148</td>\n",
       "    </tr>\n",
       "  </tbody>\n",
       "</table>\n",
       "</div>"
      ],
      "text/plain": [
       "    Month Reengineer  Employee_Turnover       TRFF          CI\n",
       "0       1      Prior             0.0000  24.390244   42.682927\n",
       "1       2      Prior             6.0606  19.354839   25.806452\n",
       "2       3      Prior            12.1212  35.087719  146.198830\n",
       "3       4      Prior             3.3333  18.404908  110.429448\n",
       "4       5      Prior            12.9032  17.964072   23.952096\n",
       "5       6      Prior             9.6774  41.176471   47.058824\n",
       "6       7      Prior            11.7647  13.422819    0.000000\n",
       "7       8      Prior            11.4286  31.250000   25.000000\n",
       "8       9      Prior            23.0769  17.241379  132.183908\n",
       "9      10      Prior            15.0000  16.574586   16.574586\n",
       "10     11      Prior            10.0000   5.917160   88.757396\n",
       "11     12      Prior            26.0870  21.164021   31.746032\n",
       "12     13      Prior            11.1111   5.076142   10.152284\n",
       "13     14       Post            26.6667   9.708738   29.126214\n",
       "14     15       Post            17.9487   4.201681   21.008403\n",
       "15     16       Post            12.8205  13.043478   34.782609\n",
       "16     17       Post            15.7895   9.950249   19.900498\n",
       "17     18       Post             0.0000   9.950249    9.950249\n",
       "18     19       Post            30.7692   8.510638   25.531915\n",
       "19     20       Post            26.8293   9.259259   23.148148"
      ]
     },
     "execution_count": 15,
     "metadata": {},
     "output_type": "execute_result"
    }
   ],
   "source": [
    "treat_fac"
   ]
  },
  {
   "cell_type": "markdown",
   "id": "6b176684",
   "metadata": {},
   "source": [
    "## Step 1"
   ]
  },
  {
   "cell_type": "markdown",
   "id": "e2716178",
   "metadata": {},
   "source": [
    "## Defining Parameters\n",
    "Null Hypothesis,H0 : There is no effect of Reengineering on Critical Incidence Rate.\n",
    "\n",
    "Alternative Hypothesis,Ha :There is an effect of Reengineering on Critical Incidence Rate."
   ]
  },
  {
   "cell_type": "markdown",
   "id": "14a81031",
   "metadata": {},
   "source": [
    "## Step 2"
   ]
  },
  {
   "cell_type": "markdown",
   "id": "c06df184",
   "metadata": {},
   "source": [
    "## FTest"
   ]
  },
  {
   "cell_type": "code",
   "execution_count": 16,
   "id": "6fceca61",
   "metadata": {},
   "outputs": [],
   "source": [
    "prior=treat_fac.CI[treat_fac.Reengineer=='Prior']\n",
    "post=treat_fac.CI[treat_fac.Reengineer=='Post']"
   ]
  },
  {
   "cell_type": "code",
   "execution_count": 17,
   "id": "19542f3c",
   "metadata": {},
   "outputs": [
    {
     "name": "stdout",
     "output_type": "stream",
     "text": [
      "fvalue is:2.650105376271948\n",
      "pvalue is:0.12091989189884142\n",
      "There is no effect of Reengineering on Critical Incidence Rate\n"
     ]
    }
   ],
   "source": [
    "fval,pval=stats.f_oneway(prior,post)\n",
    "print(f'fvalue is:{fval}')\n",
    "print(f'pvalue is:{pval}')\n",
    "if pval<0.05:\n",
    "    print('There is an effect of Reengineering on Critical Incidence Rate')\n",
    "else:\n",
    "    print('There is no effect of Reengineering on Critical Incidence Rate')"
   ]
  },
  {
   "cell_type": "markdown",
   "id": "80961bb0",
   "metadata": {},
   "source": [
    "## Step 3"
   ]
  },
  {
   "cell_type": "markdown",
   "id": "d3779ee6",
   "metadata": {},
   "source": [
    "## Conclusion"
   ]
  },
  {
   "cell_type": "markdown",
   "id": "62a8585b",
   "metadata": {},
   "source": [
    "Since pvalue is greater than 0.05 ,we cannot reject H0 , ie, there is no effect of Reengineering on Critical Incidence Rate(CI). The CI could not be improved by the Reengineering efforts."
   ]
  },
  {
   "cell_type": "markdown",
   "id": "428f042c",
   "metadata": {},
   "source": [
    "## BUSINESS PROBLEM-4"
   ]
  },
  {
   "cell_type": "markdown",
   "id": "bbc887fb",
   "metadata": {},
   "source": [
    "BUSINESS PROBLEM: We will focus on the prioritization system. If the system is working, then\n",
    "high priority jobs, on average, should be completed more quickly than medium priority jobs,\n",
    "and medium priority jobs should be completed more quickly than low priority jobs. Use the\n",
    "data provided to determine whether this is, in fact, occurring."
   ]
  },
  {
   "cell_type": "markdown",
   "id": "caaade60",
   "metadata": {},
   "source": [
    "## DATA AVAILABLE:"
   ]
  },
  {
   "cell_type": "code",
   "execution_count": 18,
   "id": "557025cf",
   "metadata": {},
   "outputs": [
    {
     "data": {
      "text/html": [
       "<div>\n",
       "<style scoped>\n",
       "    .dataframe tbody tr th:only-of-type {\n",
       "        vertical-align: middle;\n",
       "    }\n",
       "\n",
       "    .dataframe tbody tr th {\n",
       "        vertical-align: top;\n",
       "    }\n",
       "\n",
       "    .dataframe thead th {\n",
       "        text-align: right;\n",
       "    }\n",
       "</style>\n",
       "<table border=\"1\" class=\"dataframe\">\n",
       "  <thead>\n",
       "    <tr style=\"text-align: right;\">\n",
       "      <th></th>\n",
       "      <th>Days</th>\n",
       "      <th>Priority</th>\n",
       "    </tr>\n",
       "  </thead>\n",
       "  <tbody>\n",
       "    <tr>\n",
       "      <th>0</th>\n",
       "      <td>3.3</td>\n",
       "      <td>High</td>\n",
       "    </tr>\n",
       "    <tr>\n",
       "      <th>1</th>\n",
       "      <td>7.9</td>\n",
       "      <td>Medium</td>\n",
       "    </tr>\n",
       "    <tr>\n",
       "      <th>2</th>\n",
       "      <td>0.3</td>\n",
       "      <td>High</td>\n",
       "    </tr>\n",
       "    <tr>\n",
       "      <th>3</th>\n",
       "      <td>0.7</td>\n",
       "      <td>Medium</td>\n",
       "    </tr>\n",
       "    <tr>\n",
       "      <th>4</th>\n",
       "      <td>8.6</td>\n",
       "      <td>Medium</td>\n",
       "    </tr>\n",
       "    <tr>\n",
       "      <th>...</th>\n",
       "      <td>...</td>\n",
       "      <td>...</td>\n",
       "    </tr>\n",
       "    <tr>\n",
       "      <th>637</th>\n",
       "      <td>2.5</td>\n",
       "      <td>Low</td>\n",
       "    </tr>\n",
       "    <tr>\n",
       "      <th>638</th>\n",
       "      <td>0.3</td>\n",
       "      <td>High</td>\n",
       "    </tr>\n",
       "    <tr>\n",
       "      <th>639</th>\n",
       "      <td>0.3</td>\n",
       "      <td>Medium</td>\n",
       "    </tr>\n",
       "    <tr>\n",
       "      <th>640</th>\n",
       "      <td>1.3</td>\n",
       "      <td>Medium</td>\n",
       "    </tr>\n",
       "    <tr>\n",
       "      <th>641</th>\n",
       "      <td>0.5</td>\n",
       "      <td>High</td>\n",
       "    </tr>\n",
       "  </tbody>\n",
       "</table>\n",
       "<p>642 rows × 2 columns</p>\n",
       "</div>"
      ],
      "text/plain": [
       "     Days Priority\n",
       "0     3.3     High\n",
       "1     7.9   Medium\n",
       "2     0.3     High\n",
       "3     0.7   Medium\n",
       "4     8.6   Medium\n",
       "..    ...      ...\n",
       "637   2.5      Low\n",
       "638   0.3     High\n",
       "639   0.3   Medium\n",
       "640   1.3   Medium\n",
       "641   0.5     High\n",
       "\n",
       "[642 rows x 2 columns]"
      ]
     },
     "execution_count": 18,
     "metadata": {},
     "output_type": "execute_result"
    }
   ],
   "source": [
    "prio=pd.read_csv('Priority_Assessment.csv')\n",
    "prio"
   ]
  },
  {
   "cell_type": "markdown",
   "id": "57c93b3c",
   "metadata": {},
   "source": [
    "## Step 1"
   ]
  },
  {
   "cell_type": "markdown",
   "id": "3f798e23",
   "metadata": {},
   "source": [
    "## Defining Parameters\n",
    "Null Hypothesis,H0 : Work is not completed as per the priority scale.\n",
    "\n",
    "Alternative Hypothesis,Ha :Work is completed as per the priority scale."
   ]
  },
  {
   "cell_type": "markdown",
   "id": "ca709f2f",
   "metadata": {},
   "source": [
    "## Step 2"
   ]
  },
  {
   "cell_type": "markdown",
   "id": "e6aec7ec",
   "metadata": {},
   "source": [
    "## Anova Test"
   ]
  },
  {
   "cell_type": "code",
   "execution_count": 19,
   "id": "23331b43",
   "metadata": {},
   "outputs": [],
   "source": [
    "high=prio.Days[prio.Priority=='High']\n",
    "med=prio.Days[prio.Priority=='Medium']\n",
    "low=prio.Days[prio.Priority=='Low']"
   ]
  },
  {
   "cell_type": "code",
   "execution_count": 20,
   "id": "63ebf94e",
   "metadata": {},
   "outputs": [],
   "source": [
    "fval,pval=stats.f_oneway(high,med,low)"
   ]
  },
  {
   "cell_type": "code",
   "execution_count": 21,
   "id": "33113143",
   "metadata": {},
   "outputs": [
    {
     "name": "stdout",
     "output_type": "stream",
     "text": [
      "fvalue is:1.812311010076072\n",
      "pvalue is:0.16411459461716182\n",
      "Work is not completed as per the priority scale\n"
     ]
    }
   ],
   "source": [
    "print(f'fvalue is:{fval}')\n",
    "print(f'pvalue is:{pval}')\n",
    "if pval<0.05:\n",
    "    print('Work is completed as per the priority scale')\n",
    "else:\n",
    "    print('Work is not completed as per the priority scale')"
   ]
  },
  {
   "cell_type": "markdown",
   "id": "706bdd8c",
   "metadata": {},
   "source": [
    "## Step 3"
   ]
  },
  {
   "cell_type": "markdown",
   "id": "952e8859",
   "metadata": {},
   "source": [
    "## Conclusion"
   ]
  },
  {
   "cell_type": "markdown",
   "id": "7781cd31",
   "metadata": {},
   "source": [
    "Since pvalue is greater than 0.05 ,we can reject H0 ,ie, work is not completed as per the priority scale.The prioritization system is not working."
   ]
  },
  {
   "cell_type": "markdown",
   "id": "c0f5b3c9",
   "metadata": {},
   "source": [
    "## BUSINESS PROBLEM-5"
   ]
  },
  {
   "cell_type": "markdown",
   "id": "95d986ea",
   "metadata": {},
   "source": [
    "## Use the survey results to address the following questions"
   ]
  },
  {
   "cell_type": "markdown",
   "id": "476c80d0",
   "metadata": {},
   "source": [
    "## Data Available"
   ]
  },
  {
   "cell_type": "code",
   "execution_count": 49,
   "id": "49ccb44a",
   "metadata": {},
   "outputs": [
    {
     "data": {
      "text/html": [
       "<div>\n",
       "<style scoped>\n",
       "    .dataframe tbody tr th:only-of-type {\n",
       "        vertical-align: middle;\n",
       "    }\n",
       "\n",
       "    .dataframe tbody tr th {\n",
       "        vertical-align: top;\n",
       "    }\n",
       "\n",
       "    .dataframe thead th {\n",
       "        text-align: right;\n",
       "    }\n",
       "</style>\n",
       "<table border=\"1\" class=\"dataframe\">\n",
       "  <thead>\n",
       "    <tr style=\"text-align: right;\">\n",
       "      <th></th>\n",
       "      <th>_rowstate_</th>\n",
       "      <th>Movie</th>\n",
       "      <th>Gender</th>\n",
       "      <th>Marital_Status</th>\n",
       "      <th>Sinage</th>\n",
       "      <th>Parking</th>\n",
       "      <th>Clean</th>\n",
       "      <th>Overall</th>\n",
       "      <th>Age</th>\n",
       "      <th>Income</th>\n",
       "      <th>Hear_About</th>\n",
       "    </tr>\n",
       "  </thead>\n",
       "  <tbody>\n",
       "    <tr>\n",
       "      <th>123</th>\n",
       "      <td>0</td>\n",
       "      <td>Ferris Buellers Day Off</td>\n",
       "      <td>2</td>\n",
       "      <td>1</td>\n",
       "      <td>1.0</td>\n",
       "      <td>1.0</td>\n",
       "      <td>1.0</td>\n",
       "      <td>1.0</td>\n",
       "      <td>NaN</td>\n",
       "      <td>2.0</td>\n",
       "      <td>NaN</td>\n",
       "    </tr>\n",
       "    <tr>\n",
       "      <th>171</th>\n",
       "      <td>0</td>\n",
       "      <td>Willy Wonka</td>\n",
       "      <td>2</td>\n",
       "      <td>2</td>\n",
       "      <td>2.0</td>\n",
       "      <td>2.0</td>\n",
       "      <td>1.0</td>\n",
       "      <td>1.0</td>\n",
       "      <td>NaN</td>\n",
       "      <td>2.0</td>\n",
       "      <td>3,4</td>\n",
       "    </tr>\n",
       "  </tbody>\n",
       "</table>\n",
       "</div>"
      ],
      "text/plain": [
       "     _rowstate_                    Movie Gender Marital_Status  Sinage  \\\n",
       "123           0  Ferris Buellers Day Off      2              1     1.0   \n",
       "171           0              Willy Wonka      2              2     2.0   \n",
       "\n",
       "     Parking  Clean  Overall  Age  Income Hear_About  \n",
       "123      1.0    1.0      1.0  NaN     2.0        NaN  \n",
       "171      2.0    1.0      1.0  NaN     2.0        3,4  "
      ]
     },
     "execution_count": 49,
     "metadata": {},
     "output_type": "execute_result"
    }
   ],
   "source": [
    "films=pd.read_csv('Films.csv')\n",
    "films.head()\n"
   ]
  },
  {
   "cell_type": "markdown",
   "id": "c82c43f7",
   "metadata": {},
   "source": [
    "## Data Cleaning"
   ]
  },
  {
   "cell_type": "code",
   "execution_count": 23,
   "id": "7d654fc9",
   "metadata": {},
   "outputs": [],
   "source": [
    "films=films.drop(columns='_rowstate_',axis=0)"
   ]
  },
  {
   "cell_type": "code",
   "execution_count": 50,
   "id": "daac8b8f",
   "metadata": {},
   "outputs": [],
   "source": [
    "def miss_treat(x):\n",
    "    if x.dtype=='float' :\n",
    "        x=x.fillna(x.median())\n",
    "    else:\n",
    "        x=x.fillna(x.mode()[0])\n",
    "    return x"
   ]
  },
  {
   "cell_type": "code",
   "execution_count": 53,
   "id": "7a20e9c9",
   "metadata": {},
   "outputs": [
    {
     "name": "stdout",
     "output_type": "stream",
     "text": [
      "<class 'pandas.core.frame.DataFrame'>\n",
      "RangeIndex: 330 entries, 0 to 329\n",
      "Data columns (total 11 columns):\n",
      " #   Column          Non-Null Count  Dtype  \n",
      "---  ------          --------------  -----  \n",
      " 0   _rowstate_      330 non-null    int64  \n",
      " 1   Movie           330 non-null    object \n",
      " 2   Gender          330 non-null    object \n",
      " 3   Marital_Status  330 non-null    object \n",
      " 4   Sinage          330 non-null    float64\n",
      " 5   Parking         330 non-null    float64\n",
      " 6   Clean           330 non-null    float64\n",
      " 7   Overall         330 non-null    float64\n",
      " 8   Age             330 non-null    float64\n",
      " 9   Income          330 non-null    float64\n",
      " 10  Hear_About      330 non-null    object \n",
      "dtypes: float64(6), int64(1), object(4)\n",
      "memory usage: 28.5+ KB\n"
     ]
    }
   ],
   "source": [
    "films=films.apply(miss_treat)\n",
    "films.info()"
   ]
  },
  {
   "cell_type": "markdown",
   "id": "63bf9439",
   "metadata": {},
   "source": [
    "## What is the overall level of customer satisfaction?"
   ]
  },
  {
   "cell_type": "code",
   "execution_count": 26,
   "id": "0aac8ef8",
   "metadata": {},
   "outputs": [
    {
     "name": "stdout",
     "output_type": "stream",
     "text": [
      "Overall level of customer satisfaction is: Good\n"
     ]
    }
   ],
   "source": [
    "mean=math.ceil(films.Overall.mean())\n",
    "if mean==1:\n",
    "    print('Overall level of customer satisfaction is: Excellent')\n",
    "elif mean==2:\n",
    "    print('Overall level of customer satisfaction is: Good')\n",
    "elif mean==3:\n",
    "    print('Overall level of customer satisfaction is: Average')\n",
    "elif mean==4:\n",
    "    print('Overall level of customer satisfaction is: Poor')\n",
    "elif mean==5:\n",
    "    print('Overall level of customer satisfaction is: Very poor')"
   ]
  },
  {
   "cell_type": "markdown",
   "id": "ec7626d2",
   "metadata": {},
   "source": [
    "## What factors are linked to satisfaction?"
   ]
  },
  {
   "cell_type": "markdown",
   "id": "cf5ce92b",
   "metadata": {},
   "source": [
    "## Checking factors' relation with Satisfaction"
   ]
  },
  {
   "cell_type": "markdown",
   "id": "603e74a7",
   "metadata": {},
   "source": [
    "## 1. Sinage Facilities"
   ]
  },
  {
   "cell_type": "markdown",
   "id": "04b065ec",
   "metadata": {},
   "source": [
    "## Correlation Test"
   ]
  },
  {
   "cell_type": "code",
   "execution_count": 27,
   "id": "e7da3890",
   "metadata": {},
   "outputs": [
    {
     "name": "stdout",
     "output_type": "stream",
     "text": [
      "rvalue is:0.38210280422395665\n",
      "pvalue is:6.501065434766499e-13\n",
      "Satisfaction varies with sinage maintenance\n"
     ]
    }
   ],
   "source": [
    "rvalue,pval=stats.pearsonr(films.Sinage,films.Overall)\n",
    "print(f'rvalue is:{rvalue}')\n",
    "print(f'pvalue is:{pval}')\n",
    "if pval<0.05:\n",
    "    print('Satisfaction varies with sinage maintenance')\n",
    "else:\n",
    "    print('Satisfaction does not vary with sinage maintenance ')"
   ]
  },
  {
   "cell_type": "markdown",
   "id": "c7343774",
   "metadata": {},
   "source": [
    "## 2. Parking Facilities"
   ]
  },
  {
   "cell_type": "code",
   "execution_count": 28,
   "id": "b264108b",
   "metadata": {},
   "outputs": [
    {
     "name": "stdout",
     "output_type": "stream",
     "text": [
      "rvalue is:0.5144289487855273\n",
      "pvalue is:1.0840276087789278e-23\n",
      "Satisfaction varies with parking maintenance\n"
     ]
    }
   ],
   "source": [
    "rvalue,pval=stats.pearsonr(films.Parking,films.Overall)\n",
    "print(f'rvalue is:{rvalue}')\n",
    "print(f'pvalue is:{pval}')\n",
    "if pval<0.05:\n",
    "    print('Satisfaction varies with parking maintenance')\n",
    "else:\n",
    "    print('Satisfaction does not vary with parking maintenance ')"
   ]
  },
  {
   "cell_type": "markdown",
   "id": "f901a171",
   "metadata": {},
   "source": [
    "## 3. Cleanliness"
   ]
  },
  {
   "cell_type": "code",
   "execution_count": 29,
   "id": "95c538c8",
   "metadata": {},
   "outputs": [
    {
     "name": "stdout",
     "output_type": "stream",
     "text": [
      "rvalue is:0.3508222789070923\n",
      "pvalue is:5.437550007439627e-11\n",
      "Satisfaction varies with cleanliness\n"
     ]
    }
   ],
   "source": [
    "rvalue,pval=stats.pearsonr(films.Clean,films.Overall)\n",
    "print(f'rvalue is:{rvalue}')\n",
    "print(f'pvalue is:{pval}')\n",
    "if pval<0.05:\n",
    "    print('Satisfaction varies with cleanliness')\n",
    "else:\n",
    "    print('Satisfaction does not vary with cleanliness ')"
   ]
  },
  {
   "cell_type": "markdown",
   "id": "2635f195",
   "metadata": {},
   "source": [
    "## What is the demographic profile of Film on the Rocks patrons?"
   ]
  },
  {
   "cell_type": "markdown",
   "id": "55b89ca6",
   "metadata": {},
   "source": [
    "## Demographic Profile"
   ]
  },
  {
   "cell_type": "markdown",
   "id": "21fdd3b9",
   "metadata": {},
   "source": [
    "## Checking Relation with Gender using Chi-Square Test"
   ]
  },
  {
   "cell_type": "code",
   "execution_count": 38,
   "id": "651cc523",
   "metadata": {},
   "outputs": [],
   "source": [
    "gender=pd.crosstab(films.Gender,films.Movie)"
   ]
  },
  {
   "cell_type": "code",
   "execution_count": 63,
   "id": "9e472bd1",
   "metadata": {},
   "outputs": [],
   "source": [
    "chi_val, p_val, dof, expected=chi2_contingency(gender)"
   ]
  },
  {
   "cell_type": "code",
   "execution_count": 64,
   "id": "f34ce7c9",
   "metadata": {},
   "outputs": [
    {
     "name": "stdout",
     "output_type": "stream",
     "text": [
      "chivalue is:50.80551289003373\n",
      "pvalue is:3.2405158090240795e-09\n",
      "Gender affects the film preference \n"
     ]
    }
   ],
   "source": [
    "print(f'chivalue is:{chi_val}')\n",
    "print(f'pvalue is:{p_val}')\n",
    "if p_val<0.05:\n",
    "    print('Gender affects the film preference ')\n",
    "else:\n",
    "    print('Gender does not affect the film preference')"
   ]
  },
  {
   "cell_type": "markdown",
   "id": "34bbc6eb",
   "metadata": {},
   "source": [
    "## Checking Relation with Age Using Anova Test"
   ]
  },
  {
   "cell_type": "code",
   "execution_count": 57,
   "id": "e366911a",
   "metadata": {},
   "outputs": [],
   "source": [
    "old_school=films.Age[films.Movie=='Old School']\n",
    "willy_wonka=films.Age[films.Movie=='Willy Wonka']\n",
    "ferris=films.Age[films.Movie==\"Ferris Buellers Day Off\"]"
   ]
  },
  {
   "cell_type": "code",
   "execution_count": 58,
   "id": "641f8334",
   "metadata": {},
   "outputs": [],
   "source": [
    "fval,pval=stats.f_oneway(old_school,willy_wonka,ferris)"
   ]
  },
  {
   "cell_type": "code",
   "execution_count": 60,
   "id": "a6d6b958",
   "metadata": {},
   "outputs": [
    {
     "name": "stdout",
     "output_type": "stream",
     "text": [
      "fvalue is:0.40397339240723484\n",
      "pvalue is:0.6679946281373063\n",
      "At least one of the films is not affected by age\n"
     ]
    }
   ],
   "source": [
    "print(f'fvalue is:{fval}')\n",
    "print(f'pvalue is:{pval}')\n",
    "if pval<0.05:\n",
    "    print('Preference for all films are affected by age ')\n",
    "else:\n",
    "    print('At least one of the films is not affected by age')"
   ]
  },
  {
   "cell_type": "markdown",
   "id": "0fc7b598",
   "metadata": {},
   "source": [
    "## Checking Relation with Marital Status Using Chisquare Test"
   ]
  },
  {
   "cell_type": "code",
   "execution_count": 62,
   "id": "dcb8a033",
   "metadata": {},
   "outputs": [],
   "source": [
    "mar_stats=pd.crosstab(films.Marital_Status,films.Movie)"
   ]
  },
  {
   "cell_type": "code",
   "execution_count": 65,
   "id": "c8e2d368",
   "metadata": {},
   "outputs": [],
   "source": [
    "chi_val, p_val, dof, expected=chi2_contingency(mar_stats)"
   ]
  },
  {
   "cell_type": "code",
   "execution_count": 66,
   "id": "8af71251",
   "metadata": {},
   "outputs": [
    {
     "name": "stdout",
     "output_type": "stream",
     "text": [
      "chivalue is:50.48412336907947\n",
      "pvalue is:3.298300328839479e-08\n",
      "Marital Status does not affect the film preference\n"
     ]
    }
   ],
   "source": [
    "print(f'chivalue is:{chi_val}')\n",
    "print(f'pvalue is:{p_val}')\n",
    "if pval<0.05:\n",
    "    print('Marital Status affects the film preference ')\n",
    "else:\n",
    "    print('Marital Status does not affect the film preference')"
   ]
  },
  {
   "cell_type": "markdown",
   "id": "c1814938",
   "metadata": {},
   "source": [
    "## Checking Relation with Income Using Anova Test"
   ]
  },
  {
   "cell_type": "code",
   "execution_count": 67,
   "id": "a796174b",
   "metadata": {},
   "outputs": [],
   "source": [
    "old_school=films.Income[films.Movie=='Old School']\n",
    "willy_wonka=films.Income[films.Movie=='Willy Wonka']\n",
    "ferris=films.Income[films.Movie==\"Ferris Buellers Day Off\"]"
   ]
  },
  {
   "cell_type": "code",
   "execution_count": 68,
   "id": "e92adac3",
   "metadata": {},
   "outputs": [],
   "source": [
    "fval,pval=stats.f_oneway(old_school,willy_wonka,ferris)"
   ]
  },
  {
   "cell_type": "code",
   "execution_count": 69,
   "id": "b777812c",
   "metadata": {},
   "outputs": [
    {
     "name": "stdout",
     "output_type": "stream",
     "text": [
      "fvalue is:0.40796312620752384\n",
      "pvalue is:0.6653413917049096\n",
      "At least one of the films is not affected by income\n"
     ]
    }
   ],
   "source": [
    "print(f'fvalue is:{fval}')\n",
    "print(f'pvalue is:{pval}')\n",
    "if pval<0.05:\n",
    "    print('Preference for all films are affected by income')\n",
    "else:\n",
    "    print('At least one of the films is not affected by income')"
   ]
  },
  {
   "cell_type": "markdown",
   "id": "4fb8d576",
   "metadata": {},
   "source": [
    "## In what media outlet(s) should the film series be advertised?"
   ]
  },
  {
   "cell_type": "code",
   "execution_count": null,
   "id": "dc690a6e",
   "metadata": {},
   "outputs": [],
   "source": [
    "mode=films.Hear_About.mode()[0]\n",
    "mode"
   ]
  },
  {
   "cell_type": "code",
   "execution_count": null,
   "id": "433cd194",
   "metadata": {},
   "outputs": [],
   "source": [
    "if mode==1:\n",
    "    print('Film Series should be advertised more in Television')\n",
    "elif mode==2:\n",
    "    print('Film Series should be advertised more in Newspaper')\n",
    "elif mode==3:\n",
    "    print('Film Series should be advertised more in Radio')\n",
    "elif mode==4:\n",
    "    print('Film Series should be advertised more in Website')\n",
    "else:\n",
    "    print('Film Series should be advertised more by word-of-mouth')"
   ]
  },
  {
   "cell_type": "code",
   "execution_count": null,
   "id": "a77ff776",
   "metadata": {},
   "outputs": [],
   "source": []
  }
 ],
 "metadata": {
  "kernelspec": {
   "display_name": "Python 3 (ipykernel)",
   "language": "python",
   "name": "python3"
  },
  "language_info": {
   "codemirror_mode": {
    "name": "ipython",
    "version": 3
   },
   "file_extension": ".py",
   "mimetype": "text/x-python",
   "name": "python",
   "nbconvert_exporter": "python",
   "pygments_lexer": "ipython3",
   "version": "3.9.12"
  }
 },
 "nbformat": 4,
 "nbformat_minor": 5
}
